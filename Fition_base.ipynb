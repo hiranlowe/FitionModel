{
  "cells": [
    {
      "cell_type": "markdown",
      "metadata": {
        "id": "view-in-github",
        "colab_type": "text"
      },
      "source": [
        "<a href=\"https://colab.research.google.com/github/hiranlowe/FitionModel/blob/main/Fition_base.ipynb\" target=\"_parent\"><img src=\"https://colab.research.google.com/assets/colab-badge.svg\" alt=\"Open In Colab\"/></a>"
      ]
    },
    {
      "cell_type": "markdown",
      "source": [
        "Importing Libraries\n",
        "\n",
        "\n"
      ],
      "metadata": {
        "id": "QclDr1Q_S7ks"
      },
      "id": "QclDr1Q_S7ks"
    },
    {
      "cell_type": "code",
      "execution_count": 3,
      "metadata": {
        "id": "d49b1cb3"
      },
      "outputs": [],
      "source": [
        "\n",
        "import os\n",
        "from google.colab import drive\n",
        "\n",
        "import tensorflow as tf\n",
        "\n",
        "import matplotlib.pyplot as plt\n",
        "import numpy as np\n",
        "import seaborn as sns\n",
        "\n",
        "from numpy import mean\n",
        "from numpy import std\n",
        "from numpy import dstack\n",
        "from pandas import read_csv\n",
        "\n",
        "from tensorflow.keras import layers, models\n",
        "from tensorflow.keras.models import Sequential\n",
        "from tensorflow.keras.utils import to_categorical\n",
        "from tensorflow.keras.layers import BatchNormalization\n",
        "from tensorflow.keras.layers import Activation, Bidirectional, Conv1D, MaxPool1D, BatchNormalization, Dense, LSTM\n",
        "\n",
        "from sklearn.metrics import confusion_matrix, ConfusionMatrixDisplay, classification_report"
      ],
      "id": "d49b1cb3"
    },
    {
      "cell_type": "markdown",
      "source": [
        "Initialize TPU"
      ],
      "metadata": {
        "id": "YqDgThxX2USM"
      },
      "id": "YqDgThxX2USM"
    },
    {
      "cell_type": "code",
      "source": [
        "# Function to get hardware strategy\n",
        "def get_hardware_strategy():\n",
        "    try:\n",
        "        # TPU detection. No parameters necessary if TPU_NAME environment variable is\n",
        "        # set: this is always the case on Kaggle.\n",
        "        tpu = tf.distribute.cluster_resolver.TPUClusterResolver()\n",
        "        print('Running on TPU ', tpu.master())\n",
        "    except ValueError:\n",
        "        tpu = None\n",
        "\n",
        "    if tpu:\n",
        "        tf.config.experimental_connect_to_cluster(tpu)\n",
        "        tf.tpu.experimental.initialize_tpu_system(tpu)\n",
        "        strategy = tf.distribute.experimental.TPUStrategy(tpu)\n",
        "        tf.config.optimizer.set_jit(True)\n",
        "    else:\n",
        "        # Default distribution strategy in Tensorflow. Works on CPU and single GPU.\n",
        "        strategy = tf.distribute.get_strategy()\n",
        "\n",
        "    return tpu, strategy\n",
        "\n",
        "tpu, strategy = get_hardware_strategy()\n"
      ],
      "metadata": {
        "colab": {
          "base_uri": "https://localhost:8080/"
        },
        "id": "Ljb_0jk2g8iA",
        "outputId": "eadd029c-78a6-4ef4-8505-06729d4949f8"
      },
      "id": "Ljb_0jk2g8iA",
      "execution_count": 4,
      "outputs": [
        {
          "output_type": "stream",
          "name": "stdout",
          "text": [
            "Running on TPU  grpc://10.69.168.146:8470\n",
            "INFO:tensorflow:Deallocate tpu buffers before initializing tpu system.\n"
          ]
        },
        {
          "output_type": "stream",
          "name": "stderr",
          "text": [
            "INFO:tensorflow:Deallocate tpu buffers before initializing tpu system.\n"
          ]
        },
        {
          "output_type": "stream",
          "name": "stdout",
          "text": [
            "INFO:tensorflow:Initializing the TPU system: grpc://10.69.168.146:8470\n"
          ]
        },
        {
          "output_type": "stream",
          "name": "stderr",
          "text": [
            "INFO:tensorflow:Initializing the TPU system: grpc://10.69.168.146:8470\n"
          ]
        },
        {
          "output_type": "stream",
          "name": "stdout",
          "text": [
            "INFO:tensorflow:Finished initializing TPU system.\n"
          ]
        },
        {
          "output_type": "stream",
          "name": "stderr",
          "text": [
            "INFO:tensorflow:Finished initializing TPU system.\n",
            "WARNING:absl:`tf.distribute.experimental.TPUStrategy` is deprecated, please use  the non experimental symbol `tf.distribute.TPUStrategy` instead.\n"
          ]
        },
        {
          "output_type": "stream",
          "name": "stdout",
          "text": [
            "INFO:tensorflow:Found TPU system:\n"
          ]
        },
        {
          "output_type": "stream",
          "name": "stderr",
          "text": [
            "INFO:tensorflow:Found TPU system:\n"
          ]
        },
        {
          "output_type": "stream",
          "name": "stdout",
          "text": [
            "INFO:tensorflow:*** Num TPU Cores: 8\n"
          ]
        },
        {
          "output_type": "stream",
          "name": "stderr",
          "text": [
            "INFO:tensorflow:*** Num TPU Cores: 8\n"
          ]
        },
        {
          "output_type": "stream",
          "name": "stdout",
          "text": [
            "INFO:tensorflow:*** Num TPU Workers: 1\n"
          ]
        },
        {
          "output_type": "stream",
          "name": "stderr",
          "text": [
            "INFO:tensorflow:*** Num TPU Workers: 1\n"
          ]
        },
        {
          "output_type": "stream",
          "name": "stdout",
          "text": [
            "INFO:tensorflow:*** Num TPU Cores Per Worker: 8\n"
          ]
        },
        {
          "output_type": "stream",
          "name": "stderr",
          "text": [
            "INFO:tensorflow:*** Num TPU Cores Per Worker: 8\n"
          ]
        },
        {
          "output_type": "stream",
          "name": "stdout",
          "text": [
            "INFO:tensorflow:*** Available Device: _DeviceAttributes(/job:localhost/replica:0/task:0/device:CPU:0, CPU, 0, 0)\n"
          ]
        },
        {
          "output_type": "stream",
          "name": "stderr",
          "text": [
            "INFO:tensorflow:*** Available Device: _DeviceAttributes(/job:localhost/replica:0/task:0/device:CPU:0, CPU, 0, 0)\n"
          ]
        },
        {
          "output_type": "stream",
          "name": "stdout",
          "text": [
            "INFO:tensorflow:*** Available Device: _DeviceAttributes(/job:worker/replica:0/task:0/device:CPU:0, CPU, 0, 0)\n"
          ]
        },
        {
          "output_type": "stream",
          "name": "stderr",
          "text": [
            "INFO:tensorflow:*** Available Device: _DeviceAttributes(/job:worker/replica:0/task:0/device:CPU:0, CPU, 0, 0)\n"
          ]
        },
        {
          "output_type": "stream",
          "name": "stdout",
          "text": [
            "INFO:tensorflow:*** Available Device: _DeviceAttributes(/job:worker/replica:0/task:0/device:TPU:0, TPU, 0, 0)\n"
          ]
        },
        {
          "output_type": "stream",
          "name": "stderr",
          "text": [
            "INFO:tensorflow:*** Available Device: _DeviceAttributes(/job:worker/replica:0/task:0/device:TPU:0, TPU, 0, 0)\n"
          ]
        },
        {
          "output_type": "stream",
          "name": "stdout",
          "text": [
            "INFO:tensorflow:*** Available Device: _DeviceAttributes(/job:worker/replica:0/task:0/device:TPU:1, TPU, 0, 0)\n"
          ]
        },
        {
          "output_type": "stream",
          "name": "stderr",
          "text": [
            "INFO:tensorflow:*** Available Device: _DeviceAttributes(/job:worker/replica:0/task:0/device:TPU:1, TPU, 0, 0)\n"
          ]
        },
        {
          "output_type": "stream",
          "name": "stdout",
          "text": [
            "INFO:tensorflow:*** Available Device: _DeviceAttributes(/job:worker/replica:0/task:0/device:TPU:2, TPU, 0, 0)\n"
          ]
        },
        {
          "output_type": "stream",
          "name": "stderr",
          "text": [
            "INFO:tensorflow:*** Available Device: _DeviceAttributes(/job:worker/replica:0/task:0/device:TPU:2, TPU, 0, 0)\n"
          ]
        },
        {
          "output_type": "stream",
          "name": "stdout",
          "text": [
            "INFO:tensorflow:*** Available Device: _DeviceAttributes(/job:worker/replica:0/task:0/device:TPU:3, TPU, 0, 0)\n"
          ]
        },
        {
          "output_type": "stream",
          "name": "stderr",
          "text": [
            "INFO:tensorflow:*** Available Device: _DeviceAttributes(/job:worker/replica:0/task:0/device:TPU:3, TPU, 0, 0)\n"
          ]
        },
        {
          "output_type": "stream",
          "name": "stdout",
          "text": [
            "INFO:tensorflow:*** Available Device: _DeviceAttributes(/job:worker/replica:0/task:0/device:TPU:4, TPU, 0, 0)\n"
          ]
        },
        {
          "output_type": "stream",
          "name": "stderr",
          "text": [
            "INFO:tensorflow:*** Available Device: _DeviceAttributes(/job:worker/replica:0/task:0/device:TPU:4, TPU, 0, 0)\n"
          ]
        },
        {
          "output_type": "stream",
          "name": "stdout",
          "text": [
            "INFO:tensorflow:*** Available Device: _DeviceAttributes(/job:worker/replica:0/task:0/device:TPU:5, TPU, 0, 0)\n"
          ]
        },
        {
          "output_type": "stream",
          "name": "stderr",
          "text": [
            "INFO:tensorflow:*** Available Device: _DeviceAttributes(/job:worker/replica:0/task:0/device:TPU:5, TPU, 0, 0)\n"
          ]
        },
        {
          "output_type": "stream",
          "name": "stdout",
          "text": [
            "INFO:tensorflow:*** Available Device: _DeviceAttributes(/job:worker/replica:0/task:0/device:TPU:6, TPU, 0, 0)\n"
          ]
        },
        {
          "output_type": "stream",
          "name": "stderr",
          "text": [
            "INFO:tensorflow:*** Available Device: _DeviceAttributes(/job:worker/replica:0/task:0/device:TPU:6, TPU, 0, 0)\n"
          ]
        },
        {
          "output_type": "stream",
          "name": "stdout",
          "text": [
            "INFO:tensorflow:*** Available Device: _DeviceAttributes(/job:worker/replica:0/task:0/device:TPU:7, TPU, 0, 0)\n"
          ]
        },
        {
          "output_type": "stream",
          "name": "stderr",
          "text": [
            "INFO:tensorflow:*** Available Device: _DeviceAttributes(/job:worker/replica:0/task:0/device:TPU:7, TPU, 0, 0)\n"
          ]
        },
        {
          "output_type": "stream",
          "name": "stdout",
          "text": [
            "INFO:tensorflow:*** Available Device: _DeviceAttributes(/job:worker/replica:0/task:0/device:TPU_SYSTEM:0, TPU_SYSTEM, 0, 0)\n"
          ]
        },
        {
          "output_type": "stream",
          "name": "stderr",
          "text": [
            "INFO:tensorflow:*** Available Device: _DeviceAttributes(/job:worker/replica:0/task:0/device:TPU_SYSTEM:0, TPU_SYSTEM, 0, 0)\n"
          ]
        },
        {
          "output_type": "stream",
          "name": "stdout",
          "text": [
            "INFO:tensorflow:*** Available Device: _DeviceAttributes(/job:worker/replica:0/task:0/device:XLA_CPU:0, XLA_CPU, 0, 0)\n"
          ]
        },
        {
          "output_type": "stream",
          "name": "stderr",
          "text": [
            "INFO:tensorflow:*** Available Device: _DeviceAttributes(/job:worker/replica:0/task:0/device:XLA_CPU:0, XLA_CPU, 0, 0)\n"
          ]
        }
      ]
    },
    {
      "cell_type": "markdown",
      "source": [
        "CSI packet processing function"
      ],
      "metadata": {
        "id": "IarFQgBeTv-G"
      },
      "id": "IarFQgBeTv-G"
    },
    {
      "cell_type": "code",
      "execution_count": 5,
      "metadata": {
        "id": "cc080527"
      },
      "outputs": [],
      "source": [
        "def _read_csi_next(pcapfile, csi_size):\n",
        "    \"\"\"\n",
        "    Note: Designed for internal use only.\n",
        "    \n",
        "    Parameters\n",
        "    ----------\n",
        "        pcapfile : File Object\n",
        "        csi_size : Expected length of CSI in bytes. NFFT * 4\n",
        "    \"\"\"\n",
        "\n",
        "    # Read Frame Size\n",
        "    pcapfile.seek(8, os.SEEK_CUR)\n",
        "    frame_size = int.from_bytes(\n",
        "        pcapfile.read(4),\n",
        "        byteorder = 'little',\n",
        "        signed = False\n",
        "    )\n",
        "\n",
        "    # Skip some stuff\n",
        "    pcapfile.seek(56, os.SEEK_CUR)\n",
        "\n",
        "    # Read CSI data\n",
        "    pcapfile.seek(8, os.SEEK_CUR)\n",
        "    csi = np.frombuffer(\n",
        "        pcapfile.read(csi_size), \n",
        "        dtype = np.int16,\n",
        "        count = int(csi_size / 2)\n",
        "    )\n",
        "\n",
        "    # Skip any zero-padding\n",
        "    pcapfile.seek((frame_size - csi_size - 60), os.SEEK_CUR)\n",
        "\n",
        "    return csi\n",
        "\n",
        "def read_csi(pcap_file_path):\n",
        "    \"\"\"\n",
        "    You have to remove \n",
        "    null and pilot subcarriers\n",
        "    yourself.\n",
        "\n",
        "    Parameters\n",
        "    ----------\n",
        "        pcap_file_path : str\n",
        "    \"\"\"\n",
        "\n",
        "    bandwidth = 80\n",
        "\n",
        "    NFFT = int(bandwidth * 3.2) # Number of channels in FFT\n",
        "    chunksize = 1024\n",
        "\n",
        "    csi  = np.zeros((chunksize, NFFT * 2), dtype = 'int16')\n",
        "\n",
        "    with open(pcap_file_path, 'rb') as pcapfile:\n",
        "        filesize = os.stat(pcap_file_path).st_size\n",
        "        pcapfile.seek(24, os.SEEK_SET)\n",
        "\n",
        "        npackets = 0\n",
        "        while pcapfile.tell() < filesize:\n",
        "            if not (npackets % chunksize):\n",
        "                csi = np.vstack((csi, np.zeros((chunksize, NFFT * 2), dtype = 'int16')))\n",
        "\n",
        "            csi[npackets] = _read_csi_next(pcapfile, NFFT * 4)\n",
        "            \n",
        "            npackets += 1\n",
        "\n",
        "    # Convert CSI complex numbers to Magnitude.\n",
        "    csi_converted = np.abs(\n",
        "        np.fft.fftshift(csi[:npackets, ::2] + 1.j * csi[:npackets, 1::2], axes=(1,))\n",
        "    )\n",
        "\n",
        "    return csi_converted"
      ],
      "id": "cc080527"
    },
    {
      "cell_type": "markdown",
      "source": [
        "Processing data set files\n",
        "\n",
        "\n",
        "> Import files -> call the above function -> remove unrelevant subcarriers \n",
        "\n"
      ],
      "metadata": {
        "id": "ZRk-I2NbUE9u"
      },
      "id": "ZRk-I2NbUE9u"
    },
    {
      "cell_type": "code",
      "execution_count": 7,
      "metadata": {
        "id": "bd1d2460",
        "scrolled": true,
        "colab": {
          "base_uri": "https://localhost:8080/"
        },
        "outputId": "31dc1387-f7fa-447e-a2b5-821eeff58db8"
      },
      "outputs": [
        {
          "output_type": "stream",
          "name": "stdout",
          "text": [
            "Mounted at /content/gdrive\n"
          ]
        }
      ],
      "source": [
        "drive.mount(\"/content/gdrive\")\n",
        "\n",
        "movement_data=[]\n",
        "values={0:\"nm\",1:\"sitdown\", 2:\"standup\",3:\"walking\",4:\"falling\",5:\"getintobed\"}\n",
        "for key, value in values.items():\n",
        "    for i in range(1,31):\n",
        "        for j in range(1,5):\n",
        "            file_path = \"/content/gdrive/My Drive/Fition Dataset/\"+value+\"_user\"+str(j)+\"_rm\"+str(j)+\"/\"+value+\"_user\"+str(j)+\"_rm\"+str(j)+\"_\"+str(i)+\".pcap\"\n",
        "            # print(file_path)\n",
        "            csi = read_csi(file_path)\n",
        "        # 80 MHz\n",
        "            nullsubcarriers  = np.array([x+128 for x in [-128, -127, -126, -125, -124, -123, -1, 0, 1, 123, 124, 125, 126, 127]])\n",
        "            pilotsubcarriers = np.array([x+128 for x in [-103, -75, -39, -11, 11, 39, 75, 103]])\n",
        "\n",
        "        # 40 MHz\n",
        "        #  nullsubcarriers = [x+64 for x in [-64, -63, -62, -61, -60, -59, -1, 0, 1, 59, 60, 61, 62, 63]]\n",
        "        #  pilotsubcarriers = [x+64 for x in [11, 25, 53, -11, -25, -53]]\n",
        "\n",
        "            csi=np.delete(csi,np.s_[nullsubcarriers],axis=1)\n",
        "            csi=np.delete(csi,np.s_[pilotsubcarriers],axis=1)\n",
        "            movement_data.append(csi)\n",
        "        \n",
        "   "
      ],
      "id": "bd1d2460"
    },
    {
      "cell_type": "markdown",
      "source": [
        "Shape of the input"
      ],
      "metadata": {
        "id": "su5UoYUCUEYf"
      },
      "id": "su5UoYUCUEYf"
    },
    {
      "cell_type": "code",
      "execution_count": 8,
      "metadata": {
        "colab": {
          "base_uri": "https://localhost:8080/"
        },
        "id": "c2525970",
        "outputId": "4a6e200b-1ad4-4685-d28c-ddf72ea040a9"
      },
      "outputs": [
        {
          "output_type": "execute_result",
          "data": {
            "text/plain": [
              "(720, 500, 234)"
            ]
          },
          "metadata": {},
          "execution_count": 8
        }
      ],
      "source": [
        "x=np.array(movement_data)\n",
        "x.shape"
      ],
      "id": "c2525970"
    },
    {
      "cell_type": "markdown",
      "source": [
        "Creating train, validation and test inputs"
      ],
      "metadata": {
        "id": "GB8e7daTUkPT"
      },
      "id": "GB8e7daTUkPT"
    },
    {
      "cell_type": "code",
      "execution_count": 9,
      "metadata": {
        "colab": {
          "base_uri": "https://localhost:8080/"
        },
        "id": "fc3960d1",
        "outputId": "fde3402b-e20c-46db-a5ec-ed9b0288c39e"
      },
      "outputs": [
        {
          "output_type": "stream",
          "name": "stdout",
          "text": [
            "600\n",
            "0\n",
            "120\n"
          ]
        }
      ],
      "source": [
        "x_train = []\n",
        "x_valid = []\n",
        "x_test = []\n",
        "ind_list = []\n",
        "for i in range(0, 720, 6):\n",
        "    ind_list.append(i)\n",
        "    # print(len(ind_list))\n",
        "for i in range(0, 720):\n",
        "    if(i in ind_list):\n",
        "        x_test.append(x[i])\n",
        "    # elif(i-1 in ind_list):\n",
        "    #     x_valid.append(x[i])\n",
        "        # print(i)\n",
        "    else:\n",
        "        x_train.append(x[i])\n",
        "\n",
        "\n",
        "\n",
        "x_train = np.array(x_train)\n",
        "x_valid = np.array(x_valid)\n",
        "x_test = np.array(x_test)\n",
        "print(len(x_train))\n",
        "print(len(x_valid))\n",
        "print(len(x_test))"
      ],
      "id": "fc3960d1"
    },
    {
      "cell_type": "markdown",
      "source": [
        "Creating train, validation and test labels"
      ],
      "metadata": {
        "id": "uv5vG7lGUulD"
      },
      "id": "uv5vG7lGUulD"
    },
    {
      "cell_type": "code",
      "execution_count": 10,
      "metadata": {
        "colab": {
          "base_uri": "https://localhost:8080/"
        },
        "id": "eee46ebb",
        "outputId": "5b03b2e4-4429-4c32-cfe0-a1db591b4a44"
      },
      "outputs": [
        {
          "output_type": "execute_result",
          "data": {
            "text/plain": [
              "(600,)"
            ]
          },
          "metadata": {},
          "execution_count": 10
        }
      ],
      "source": [
        "list1=[0 for _ in range(100)]\n",
        "list2=[1 for _ in range(100)]\n",
        "list3=[2 for _ in range(100)]\n",
        "list4=[3 for _ in range(100)]\n",
        "list5=[4 for _ in range(100)]\n",
        "list6=[5 for _ in range(100)]\n",
        "y_train=np.array(list1+list2+list3+list4+list5+list6)\n",
        "#y_train=y_train.reshape(20)\n",
        "y_train.shape\n"
      ],
      "id": "eee46ebb"
    },
    {
      "cell_type": "code",
      "source": [
        "list1=[0 for _ in range(20)]\n",
        "list2=[1 for _ in range(20)]\n",
        "list3=[2 for _ in range(20)]\n",
        "list4=[3 for _ in range(20)]\n",
        "list5=[4 for _ in range(20)]\n",
        "list6=[5 for _ in range(20)]\n",
        "y_valid=np.array(list1+list2+list3+list4+list5+list6)\n",
        "#y_test=y_test.reshape(10,1)\n",
        "y_valid.shape"
      ],
      "metadata": {
        "colab": {
          "base_uri": "https://localhost:8080/"
        },
        "id": "er8nF_ry_ct2",
        "outputId": "c49f3f4c-fe1b-462a-96be-d64d845d6345"
      },
      "id": "er8nF_ry_ct2",
      "execution_count": 11,
      "outputs": [
        {
          "output_type": "execute_result",
          "data": {
            "text/plain": [
              "(120,)"
            ]
          },
          "metadata": {},
          "execution_count": 11
        }
      ]
    },
    {
      "cell_type": "code",
      "execution_count": 12,
      "metadata": {
        "colab": {
          "base_uri": "https://localhost:8080/"
        },
        "id": "591d278c",
        "outputId": "9f44fd99-b3a0-4625-ec4c-f2ea7192743f"
      },
      "outputs": [
        {
          "output_type": "execute_result",
          "data": {
            "text/plain": [
              "(120,)"
            ]
          },
          "metadata": {},
          "execution_count": 12
        }
      ],
      "source": [
        "list1=[0 for _ in range(20)]\n",
        "list2=[1 for _ in range(20)]\n",
        "list3=[2 for _ in range(20)]\n",
        "list4=[3 for _ in range(20)]\n",
        "list5=[4 for _ in range(20)]\n",
        "list6=[5 for _ in range(20)]\n",
        "y_test=np.array(list1+list2+list3+list4+list5+list6)\n",
        "#y_test=y_test.reshape(10,1)\n",
        "y_test.shape\n"
      ],
      "id": "591d278c"
    },
    {
      "cell_type": "markdown",
      "source": [
        "Encoding Labels"
      ],
      "metadata": {
        "id": "clwHpo0_U6pw"
      },
      "id": "clwHpo0_U6pw"
    },
    {
      "cell_type": "code",
      "execution_count": 13,
      "metadata": {
        "id": "55c80848"
      },
      "outputs": [],
      "source": [
        "y_train=to_categorical(y_train)\n",
        "y_valid=to_categorical(y_valid)\n",
        "y_test=to_categorical(y_test)"
      ],
      "id": "55c80848"
    },
    {
      "cell_type": "code",
      "execution_count": 14,
      "metadata": {
        "colab": {
          "base_uri": "https://localhost:8080/"
        },
        "id": "d66669db",
        "outputId": "29f6bcf5-f3c9-417b-9a1e-b39467f02a27"
      },
      "outputs": [
        {
          "output_type": "execute_result",
          "data": {
            "text/plain": [
              "(600, 6)"
            ]
          },
          "metadata": {},
          "execution_count": 14
        }
      ],
      "source": [
        "y_train.shape"
      ],
      "id": "d66669db"
    },
    {
      "cell_type": "code",
      "source": [
        "y_valid.shape\n"
      ],
      "metadata": {
        "colab": {
          "base_uri": "https://localhost:8080/"
        },
        "id": "VZd_2_8kh9JU",
        "outputId": "2b6e3da4-c511-4acf-f5ac-9d143917c2f6"
      },
      "id": "VZd_2_8kh9JU",
      "execution_count": 15,
      "outputs": [
        {
          "output_type": "execute_result",
          "data": {
            "text/plain": [
              "(120, 6)"
            ]
          },
          "metadata": {},
          "execution_count": 15
        }
      ]
    },
    {
      "cell_type": "code",
      "source": [
        "y_test.shape\n"
      ],
      "metadata": {
        "colab": {
          "base_uri": "https://localhost:8080/"
        },
        "id": "cFAWNrfYh-7r",
        "outputId": "5290df18-97c8-47ea-f8a5-5a882614369d"
      },
      "id": "cFAWNrfYh-7r",
      "execution_count": 16,
      "outputs": [
        {
          "output_type": "execute_result",
          "data": {
            "text/plain": [
              "(120, 6)"
            ]
          },
          "metadata": {},
          "execution_count": 16
        }
      ]
    },
    {
      "cell_type": "markdown",
      "source": [
        "Input shape variables"
      ],
      "metadata": {
        "id": "L1qqq_VhVMIl"
      },
      "id": "L1qqq_VhVMIl"
    },
    {
      "cell_type": "code",
      "execution_count": 17,
      "metadata": {
        "id": "54e15623"
      },
      "outputs": [],
      "source": [
        "input_length, input_features = 500, 234"
      ],
      "id": "54e15623"
    },
    {
      "cell_type": "markdown",
      "source": [
        "Keras ConvLSTM Model"
      ],
      "metadata": {
        "id": "R02P_PhjVPRh"
      },
      "id": "R02P_PhjVPRh"
    },
    {
      "cell_type": "code",
      "execution_count": 18,
      "metadata": {
        "id": "52af60fd",
        "scrolled": true
      },
      "outputs": [],
      "source": [
        "def create_model():\n",
        "  model = Sequential()\n",
        "\n",
        "  model.add(layers.Conv1D(filters=128, kernel_size=5, input_shape=(input_length, input_features)))\n",
        "  model.add(BatchNormalization())\n",
        "  model.add(Activation('relu'))\n",
        "  model.add(BatchNormalization())\n",
        "\n",
        "  model.add(layers.Conv1D(filters=128, kernel_size=5, input_shape=(input_length, input_length)))\n",
        "  model.add(BatchNormalization())\n",
        "  model.add(Activation('tanh'))\n",
        "  model.add(BatchNormalization())\n",
        "\n",
        "  model.add(layers.MaxPool1D())\n",
        "\n",
        "  model.add(layers.Bidirectional(layers.LSTM(200, return_sequences=True)))\n",
        "  model.add(layers.Bidirectional(layers.LSTM(200, return_sequences=True)))\n",
        "  model.add(layers.Bidirectional(layers.LSTM(200, return_sequences=True)))\n",
        "  model.add(layers.Bidirectional(layers.LSTM(200)))\n",
        "\n",
        "  model.add(Dense(6))\n",
        "  model.add(Activation('softmax'))\n",
        "\n",
        "  optimizer = tf.keras.optimizers.Adam(learning_rate=0.0001)\n",
        "\n",
        "  model.compile(loss='categorical_crossentropy', optimizer=optimizer, metrics=['accuracy'])\n",
        "\n",
        "  return model\n"
      ],
      "id": "52af60fd"
    },
    {
      "cell_type": "code",
      "execution_count": null,
      "metadata": {
        "id": "af5fb07f-5624-4643-86a6-7476dc088fd9",
        "scrolled": true,
        "colab": {
          "base_uri": "https://localhost:8080/"
        },
        "outputId": "72d3e8fd-6193-4351-f619-56e3c8d34362"
      },
      "outputs": [
        {
          "output_type": "stream",
          "name": "stdout",
          "text": [
            "Epoch 1/2000\n",
            "6/6 [==============================] - 33s 456ms/step - loss: 1.6831 - accuracy: 0.3383\n",
            "Epoch 2/2000\n",
            "6/6 [==============================] - 3s 455ms/step - loss: 1.4803 - accuracy: 0.4133\n",
            "Epoch 3/2000\n",
            "6/6 [==============================] - 3s 457ms/step - loss: 1.3348 - accuracy: 0.4783\n",
            "Epoch 4/2000\n",
            "6/6 [==============================] - 3s 464ms/step - loss: 1.1969 - accuracy: 0.5517\n",
            "Epoch 5/2000\n",
            "6/6 [==============================] - 3s 447ms/step - loss: 1.0835 - accuracy: 0.5883\n",
            "Epoch 6/2000\n",
            "6/6 [==============================] - 3s 448ms/step - loss: 0.9361 - accuracy: 0.6600\n",
            "Epoch 7/2000\n",
            "6/6 [==============================] - 3s 449ms/step - loss: 0.8190 - accuracy: 0.6950\n",
            "Epoch 8/2000\n",
            "6/6 [==============================] - 3s 456ms/step - loss: 0.7403 - accuracy: 0.7300\n",
            "Epoch 9/2000\n",
            "6/6 [==============================] - 3s 447ms/step - loss: 0.6445 - accuracy: 0.7650\n",
            "Epoch 10/2000\n",
            "6/6 [==============================] - 3s 448ms/step - loss: 0.5719 - accuracy: 0.7817\n",
            "Epoch 11/2000\n",
            "6/6 [==============================] - 3s 451ms/step - loss: 0.5272 - accuracy: 0.8267\n",
            "Epoch 12/2000\n",
            "6/6 [==============================] - 3s 453ms/step - loss: 0.4616 - accuracy: 0.8483\n",
            "Epoch 13/2000\n",
            "6/6 [==============================] - 3s 452ms/step - loss: 0.4082 - accuracy: 0.8600\n",
            "Epoch 14/2000\n",
            "6/6 [==============================] - 3s 450ms/step - loss: 0.3937 - accuracy: 0.8600\n",
            "Epoch 15/2000\n",
            "6/6 [==============================] - 3s 450ms/step - loss: 0.4012 - accuracy: 0.8767\n",
            "Epoch 16/2000\n",
            "6/6 [==============================] - 3s 454ms/step - loss: 0.3385 - accuracy: 0.8983\n",
            "Epoch 17/2000\n",
            "6/6 [==============================] - 3s 451ms/step - loss: 0.3644 - accuracy: 0.8767\n",
            "Epoch 18/2000\n",
            "6/6 [==============================] - 3s 455ms/step - loss: 0.3000 - accuracy: 0.9050\n",
            "Epoch 19/2000\n",
            "6/6 [==============================] - 3s 452ms/step - loss: 0.2528 - accuracy: 0.9183\n",
            "Epoch 20/2000\n",
            "6/6 [==============================] - 3s 452ms/step - loss: 0.2358 - accuracy: 0.9433\n",
            "Epoch 21/2000\n",
            "6/6 [==============================] - 3s 457ms/step - loss: 0.1932 - accuracy: 0.9433\n",
            "Epoch 22/2000\n",
            "6/6 [==============================] - 3s 454ms/step - loss: 0.1971 - accuracy: 0.9333\n",
            "Epoch 23/2000\n",
            "6/6 [==============================] - 3s 454ms/step - loss: 0.2023 - accuracy: 0.9300\n",
            "Epoch 24/2000\n",
            "6/6 [==============================] - 3s 455ms/step - loss: 0.1758 - accuracy: 0.9467\n",
            "Epoch 25/2000\n",
            "6/6 [==============================] - 3s 450ms/step - loss: 0.1695 - accuracy: 0.9433\n",
            "Epoch 26/2000\n",
            "6/6 [==============================] - 3s 456ms/step - loss: 0.1546 - accuracy: 0.9483\n",
            "Epoch 27/2000\n",
            "6/6 [==============================] - 3s 448ms/step - loss: 0.1607 - accuracy: 0.9467\n",
            "Epoch 28/2000\n",
            "6/6 [==============================] - 3s 449ms/step - loss: 0.1422 - accuracy: 0.9550\n",
            "Epoch 29/2000\n",
            "6/6 [==============================] - 3s 450ms/step - loss: 0.1435 - accuracy: 0.9567\n",
            "Epoch 30/2000\n",
            "6/6 [==============================] - 3s 447ms/step - loss: 0.1107 - accuracy: 0.9633\n",
            "Epoch 31/2000\n",
            "6/6 [==============================] - 3s 459ms/step - loss: 0.1045 - accuracy: 0.9800\n",
            "Epoch 32/2000\n",
            "6/6 [==============================] - 3s 455ms/step - loss: 0.1075 - accuracy: 0.9733\n",
            "Epoch 33/2000\n",
            "6/6 [==============================] - 3s 449ms/step - loss: 0.0906 - accuracy: 0.9750\n",
            "Epoch 34/2000\n",
            "6/6 [==============================] - 3s 449ms/step - loss: 0.0843 - accuracy: 0.9767\n",
            "Epoch 35/2000\n",
            "6/6 [==============================] - 3s 450ms/step - loss: 0.0926 - accuracy: 0.9767\n",
            "Epoch 36/2000\n",
            "6/6 [==============================] - 3s 448ms/step - loss: 0.0733 - accuracy: 0.9833\n",
            "Epoch 37/2000\n",
            "6/6 [==============================] - 3s 457ms/step - loss: 0.0818 - accuracy: 0.9733\n",
            "Epoch 38/2000\n",
            "6/6 [==============================] - 3s 450ms/step - loss: 0.0669 - accuracy: 0.9883\n",
            "Epoch 39/2000\n",
            "6/6 [==============================] - 3s 451ms/step - loss: 0.0723 - accuracy: 0.9800\n",
            "Epoch 40/2000\n",
            "6/6 [==============================] - 3s 458ms/step - loss: 0.0769 - accuracy: 0.9833\n",
            "Epoch 41/2000\n",
            "6/6 [==============================] - 3s 458ms/step - loss: 0.0694 - accuracy: 0.9833\n",
            "Epoch 42/2000\n",
            "6/6 [==============================] - 3s 461ms/step - loss: 0.0801 - accuracy: 0.9783\n",
            "Epoch 43/2000\n",
            "6/6 [==============================] - 3s 451ms/step - loss: 0.0603 - accuracy: 0.9900\n",
            "Epoch 44/2000\n",
            "6/6 [==============================] - 3s 451ms/step - loss: 0.0607 - accuracy: 0.9833\n",
            "Epoch 45/2000\n",
            "6/6 [==============================] - 3s 456ms/step - loss: 0.0816 - accuracy: 0.9783\n",
            "Epoch 46/2000\n",
            "6/6 [==============================] - 3s 448ms/step - loss: 0.0562 - accuracy: 0.9900\n",
            "Epoch 47/2000\n",
            "6/6 [==============================] - 3s 448ms/step - loss: 0.0920 - accuracy: 0.9717\n",
            "Epoch 48/2000\n",
            "6/6 [==============================] - 3s 452ms/step - loss: 0.0976 - accuracy: 0.9700\n",
            "Epoch 49/2000\n",
            "6/6 [==============================] - 3s 448ms/step - loss: 0.0921 - accuracy: 0.9733\n",
            "Epoch 50/2000\n",
            "6/6 [==============================] - 3s 450ms/step - loss: 0.0780 - accuracy: 0.9783\n",
            "Epoch 51/2000\n",
            "6/6 [==============================] - 3s 450ms/step - loss: 0.0654 - accuracy: 0.9917\n",
            "Epoch 52/2000\n",
            "6/6 [==============================] - 3s 450ms/step - loss: 0.0405 - accuracy: 0.9900\n",
            "Epoch 53/2000\n",
            "6/6 [==============================] - 3s 450ms/step - loss: 0.0326 - accuracy: 0.9950\n",
            "Epoch 54/2000\n",
            "6/6 [==============================] - 3s 449ms/step - loss: 0.0406 - accuracy: 0.9933\n",
            "Epoch 55/2000\n",
            "6/6 [==============================] - 3s 448ms/step - loss: 0.0246 - accuracy: 0.9983\n",
            "Epoch 56/2000\n",
            "6/6 [==============================] - 3s 461ms/step - loss: 0.0303 - accuracy: 0.9917\n",
            "Epoch 57/2000\n",
            "6/6 [==============================] - 3s 460ms/step - loss: 0.0210 - accuracy: 0.9983\n",
            "Epoch 58/2000\n",
            "6/6 [==============================] - 3s 451ms/step - loss: 0.0271 - accuracy: 0.9967\n",
            "Epoch 59/2000\n",
            "6/6 [==============================] - 3s 449ms/step - loss: 0.0191 - accuracy: 0.9950\n",
            "Epoch 60/2000\n",
            "6/6 [==============================] - 3s 456ms/step - loss: 0.0212 - accuracy: 0.9967\n",
            "Epoch 61/2000\n",
            "6/6 [==============================] - 3s 452ms/step - loss: 0.0162 - accuracy: 0.9967\n",
            "Epoch 62/2000\n",
            "6/6 [==============================] - 3s 451ms/step - loss: 0.0313 - accuracy: 0.9950\n",
            "Epoch 63/2000\n",
            "6/6 [==============================] - 3s 449ms/step - loss: 0.0296 - accuracy: 0.9917\n",
            "Epoch 64/2000\n",
            "6/6 [==============================] - 3s 448ms/step - loss: 0.0760 - accuracy: 0.9817\n",
            "Epoch 65/2000\n",
            "6/6 [==============================] - 3s 449ms/step - loss: 0.0762 - accuracy: 0.9767\n",
            "Epoch 66/2000\n",
            "6/6 [==============================] - 3s 448ms/step - loss: 0.1026 - accuracy: 0.9700\n",
            "Epoch 67/2000\n",
            "6/6 [==============================] - 3s 448ms/step - loss: 0.0988 - accuracy: 0.9683\n",
            "Epoch 68/2000\n",
            "6/6 [==============================] - 3s 448ms/step - loss: 0.0892 - accuracy: 0.9733\n",
            "Epoch 69/2000\n",
            "6/6 [==============================] - 3s 448ms/step - loss: 0.0578 - accuracy: 0.9867\n",
            "Epoch 70/2000\n",
            "6/6 [==============================] - 3s 448ms/step - loss: 0.0440 - accuracy: 0.9883\n",
            "Epoch 71/2000\n",
            "6/6 [==============================] - 3s 448ms/step - loss: 0.0391 - accuracy: 0.9933\n",
            "Epoch 72/2000\n",
            "6/6 [==============================] - 3s 448ms/step - loss: 0.0318 - accuracy: 0.9933\n",
            "Epoch 73/2000\n",
            "6/6 [==============================] - 3s 449ms/step - loss: 0.0269 - accuracy: 0.9933\n",
            "Epoch 74/2000\n",
            "6/6 [==============================] - 3s 450ms/step - loss: 0.0266 - accuracy: 0.9967\n",
            "Epoch 75/2000\n",
            "6/6 [==============================] - 3s 449ms/step - loss: 0.0352 - accuracy: 0.9883\n",
            "Epoch 76/2000\n",
            "6/6 [==============================] - 3s 448ms/step - loss: 0.0203 - accuracy: 1.0000\n",
            "Epoch 77/2000\n",
            "6/6 [==============================] - 3s 452ms/step - loss: 0.0194 - accuracy: 0.9967\n",
            "Epoch 78/2000\n",
            "6/6 [==============================] - 3s 447ms/step - loss: 0.0125 - accuracy: 0.9983\n",
            "Epoch 79/2000\n",
            "6/6 [==============================] - 3s 452ms/step - loss: 0.0185 - accuracy: 0.9967\n",
            "Epoch 80/2000\n",
            "6/6 [==============================] - 3s 449ms/step - loss: 0.0227 - accuracy: 0.9917\n",
            "Epoch 81/2000\n",
            "6/6 [==============================] - 3s 448ms/step - loss: 0.0367 - accuracy: 0.9900\n",
            "Epoch 82/2000\n",
            "6/6 [==============================] - 3s 449ms/step - loss: 0.0411 - accuracy: 0.9867\n",
            "Epoch 83/2000\n",
            "6/6 [==============================] - 3s 447ms/step - loss: 0.0273 - accuracy: 0.9933\n",
            "Epoch 84/2000\n",
            "6/6 [==============================] - 3s 451ms/step - loss: 0.0205 - accuracy: 0.9950\n",
            "Epoch 85/2000\n",
            "6/6 [==============================] - 3s 447ms/step - loss: 0.0126 - accuracy: 0.9983\n",
            "Epoch 86/2000\n",
            "6/6 [==============================] - 3s 447ms/step - loss: 0.0265 - accuracy: 0.9933\n",
            "Epoch 87/2000\n",
            "6/6 [==============================] - 3s 453ms/step - loss: 0.0265 - accuracy: 0.9933\n",
            "Epoch 88/2000\n",
            "6/6 [==============================] - 3s 455ms/step - loss: 0.0248 - accuracy: 0.9967\n",
            "Epoch 89/2000\n",
            "6/6 [==============================] - 3s 447ms/step - loss: 0.0180 - accuracy: 0.9967\n",
            "Epoch 90/2000\n",
            "6/6 [==============================] - 3s 448ms/step - loss: 0.0171 - accuracy: 0.9950\n",
            "Epoch 91/2000\n",
            "6/6 [==============================] - 3s 448ms/step - loss: 0.0193 - accuracy: 0.9967\n",
            "Epoch 92/2000\n",
            "6/6 [==============================] - 3s 450ms/step - loss: 0.0080 - accuracy: 1.0000\n",
            "Epoch 93/2000\n",
            "6/6 [==============================] - 3s 450ms/step - loss: 0.0164 - accuracy: 0.9950\n",
            "Epoch 94/2000\n",
            "6/6 [==============================] - 3s 447ms/step - loss: 0.0121 - accuracy: 0.9983\n",
            "Epoch 95/2000\n",
            "6/6 [==============================] - 3s 453ms/step - loss: 0.0096 - accuracy: 1.0000\n",
            "Epoch 96/2000\n",
            "6/6 [==============================] - 3s 450ms/step - loss: 0.0153 - accuracy: 0.9950\n",
            "Epoch 97/2000\n",
            "6/6 [==============================] - 3s 449ms/step - loss: 0.0171 - accuracy: 0.9950\n",
            "Epoch 98/2000\n",
            "6/6 [==============================] - 3s 448ms/step - loss: 0.0144 - accuracy: 0.9967\n",
            "Epoch 99/2000\n",
            "6/6 [==============================] - 3s 446ms/step - loss: 0.0197 - accuracy: 0.9950\n",
            "Epoch 100/2000\n",
            "6/6 [==============================] - 3s 448ms/step - loss: 0.0148 - accuracy: 0.9983\n",
            "Epoch 101/2000\n",
            "6/6 [==============================] - 3s 449ms/step - loss: 0.0244 - accuracy: 0.9950\n",
            "Epoch 102/2000\n",
            "6/6 [==============================] - 3s 447ms/step - loss: 0.0193 - accuracy: 0.9950\n",
            "Epoch 103/2000\n",
            "6/6 [==============================] - 3s 448ms/step - loss: 0.0256 - accuracy: 0.9950\n",
            "Epoch 104/2000\n",
            "6/6 [==============================] - 3s 448ms/step - loss: 0.0143 - accuracy: 0.9983\n",
            "Epoch 105/2000\n",
            "6/6 [==============================] - 3s 448ms/step - loss: 0.0293 - accuracy: 0.9950\n",
            "Epoch 106/2000\n",
            "6/6 [==============================] - 3s 450ms/step - loss: 0.0214 - accuracy: 0.9950\n",
            "Epoch 107/2000\n",
            "6/6 [==============================] - 3s 449ms/step - loss: 0.0150 - accuracy: 0.9967\n",
            "Epoch 108/2000\n",
            "6/6 [==============================] - 3s 453ms/step - loss: 0.0123 - accuracy: 0.9950\n",
            "Epoch 109/2000\n",
            "6/6 [==============================] - 3s 448ms/step - loss: 0.0091 - accuracy: 1.0000\n",
            "Epoch 110/2000\n",
            "6/6 [==============================] - 3s 450ms/step - loss: 0.0057 - accuracy: 1.0000\n",
            "Epoch 111/2000\n",
            "6/6 [==============================] - 3s 448ms/step - loss: 0.0195 - accuracy: 0.9950\n",
            "Epoch 112/2000\n",
            "6/6 [==============================] - 3s 448ms/step - loss: 0.0104 - accuracy: 0.9983\n",
            "Epoch 113/2000\n",
            "6/6 [==============================] - 3s 449ms/step - loss: 0.0116 - accuracy: 0.9983\n",
            "Epoch 114/2000\n",
            "6/6 [==============================] - 3s 448ms/step - loss: 0.0090 - accuracy: 0.9983\n",
            "Epoch 115/2000\n",
            "6/6 [==============================] - 3s 449ms/step - loss: 0.0055 - accuracy: 1.0000\n",
            "Epoch 116/2000\n",
            "6/6 [==============================] - 3s 449ms/step - loss: 0.0090 - accuracy: 0.9967\n",
            "Epoch 117/2000\n",
            "6/6 [==============================] - 3s 448ms/step - loss: 0.0081 - accuracy: 0.9983\n",
            "Epoch 118/2000\n",
            "6/6 [==============================] - 3s 448ms/step - loss: 0.0070 - accuracy: 0.9983\n",
            "Epoch 119/2000\n",
            "6/6 [==============================] - 3s 449ms/step - loss: 0.0067 - accuracy: 1.0000\n",
            "Epoch 120/2000\n",
            "6/6 [==============================] - 3s 446ms/step - loss: 0.0167 - accuracy: 0.9950\n",
            "Epoch 121/2000\n",
            "6/6 [==============================] - 3s 448ms/step - loss: 0.0175 - accuracy: 0.9950\n",
            "Epoch 122/2000\n",
            "6/6 [==============================] - 3s 450ms/step - loss: 0.0077 - accuracy: 0.9983\n",
            "Epoch 123/2000\n",
            "6/6 [==============================] - 3s 446ms/step - loss: 0.0175 - accuracy: 0.9950\n",
            "Epoch 124/2000\n",
            "6/6 [==============================] - 3s 449ms/step - loss: 0.0133 - accuracy: 0.9967\n",
            "Epoch 125/2000\n",
            "1/6 [====>.........................] - ETA: 2s - loss: 0.0065 - accuracy: 1.0000"
          ]
        }
      ],
      "source": [
        "# Clear clutter from previous session graphs.\n",
        "tf.keras.backend.clear_session()\n",
        "\n",
        "#train with TPU    \n",
        "with strategy.scope():  \n",
        "  model = create_model()\n",
        "  history = model.fit(x_train, y_train, epochs=2000, batch_size=100, verbose=True)\n",
        "  model.save('/content/gdrive/My Drive/Fition/colab1.h5')"
      ],
      "id": "af5fb07f-5624-4643-86a6-7476dc088fd9"
    },
    {
      "cell_type": "markdown",
      "source": [
        "Evaluating Model"
      ],
      "metadata": {
        "id": "g6qBrepZV_0Z"
      },
      "id": "g6qBrepZV_0Z"
    },
    {
      "cell_type": "code",
      "source": [
        "model.evaluate(x_test, y_test, batch_size=100)"
      ],
      "metadata": {
        "id": "ZjqB16JOV_Hj"
      },
      "id": "ZjqB16JOV_Hj",
      "execution_count": null,
      "outputs": []
    },
    {
      "cell_type": "code",
      "execution_count": null,
      "metadata": {
        "id": "7b5aa4e7-71d7-4952-8ebb-8309a49efb96",
        "colab": {
          "base_uri": "https://localhost:8080/",
          "height": 484
        },
        "outputId": "438f6fc9-1b26-4d9b-f9d9-36decd13ec17"
      },
      "outputs": [
        {
          "output_type": "error",
          "ename": "KeyError",
          "evalue": "ignored",
          "traceback": [
            "\u001b[0;31m---------------------------------------------------------------------------\u001b[0m",
            "\u001b[0;31mKeyError\u001b[0m                                  Traceback (most recent call last)",
            "\u001b[0;32m<ipython-input-34-716c8c1a9ca4>\u001b[0m in \u001b[0;36m<module>\u001b[0;34m()\u001b[0m\n\u001b[1;32m      1\u001b[0m \u001b[0mpyplot\u001b[0m\u001b[0;34m.\u001b[0m\u001b[0mplot\u001b[0m\u001b[0;34m(\u001b[0m\u001b[0mhistory\u001b[0m\u001b[0;34m.\u001b[0m\u001b[0mhistory\u001b[0m\u001b[0;34m[\u001b[0m\u001b[0;34m'loss'\u001b[0m\u001b[0;34m]\u001b[0m\u001b[0;34m)\u001b[0m\u001b[0;34m\u001b[0m\u001b[0;34m\u001b[0m\u001b[0m\n\u001b[0;32m----> 2\u001b[0;31m \u001b[0mpyplot\u001b[0m\u001b[0;34m.\u001b[0m\u001b[0mplot\u001b[0m\u001b[0;34m(\u001b[0m\u001b[0mhistory\u001b[0m\u001b[0;34m.\u001b[0m\u001b[0mhistory\u001b[0m\u001b[0;34m[\u001b[0m\u001b[0;34m'val_loss'\u001b[0m\u001b[0;34m]\u001b[0m\u001b[0;34m)\u001b[0m\u001b[0;34m\u001b[0m\u001b[0;34m\u001b[0m\u001b[0m\n\u001b[0m\u001b[1;32m      3\u001b[0m \u001b[0mpyplot\u001b[0m\u001b[0;34m.\u001b[0m\u001b[0mtitle\u001b[0m\u001b[0;34m(\u001b[0m\u001b[0;34m'model train vs validation loss'\u001b[0m\u001b[0;34m)\u001b[0m\u001b[0;34m\u001b[0m\u001b[0;34m\u001b[0m\u001b[0m\n\u001b[1;32m      4\u001b[0m \u001b[0mpyplot\u001b[0m\u001b[0;34m.\u001b[0m\u001b[0mylabel\u001b[0m\u001b[0;34m(\u001b[0m\u001b[0;34m'loss'\u001b[0m\u001b[0;34m)\u001b[0m\u001b[0;34m\u001b[0m\u001b[0;34m\u001b[0m\u001b[0m\n\u001b[1;32m      5\u001b[0m \u001b[0mpyplot\u001b[0m\u001b[0;34m.\u001b[0m\u001b[0mxlabel\u001b[0m\u001b[0;34m(\u001b[0m\u001b[0;34m'epoch'\u001b[0m\u001b[0;34m)\u001b[0m\u001b[0;34m\u001b[0m\u001b[0;34m\u001b[0m\u001b[0m\n",
            "\u001b[0;31mKeyError\u001b[0m: 'val_loss'"
          ]
        },
        {
          "output_type": "display_data",
          "data": {
            "text/plain": [
              "<Figure size 432x288 with 1 Axes>"
            ],
            "image/png": "[encoded data removed]"
          },
          "metadata": {
            "needs_background": "light"
          }
        }
      ],
      "source": [
        "pyplot.plot(history.history['loss'])\n",
        "# pyplot.plot(history.history['val_loss'])\n",
        "# pyplot.title('model train vs validation loss')\n",
        "pyplot.ylabel('loss')\n",
        "pyplot.xlabel('epoch')\n",
        "# pyplot.legend(['train', 'validation'], loc='upper right')\n",
        "pyplot.show()"
      ],
      "id": "7b5aa4e7-71d7-4952-8ebb-8309a49efb96"
    },
    {
      "cell_type": "markdown",
      "source": [
        "Get predicitons on test data"
      ],
      "metadata": {
        "id": "ZdhTjzZPWV5v"
      },
      "id": "ZdhTjzZPWV5v"
    },
    {
      "cell_type": "code",
      "execution_count": null,
      "metadata": {
        "id": "d8c6310a"
      },
      "outputs": [],
      "source": [
        "y_pred = model.predict(x_test)\n",
        "y_pred_classes = [np.argmax(element) for element in y_pred]"
      ],
      "id": "d8c6310a"
    },
    {
      "cell_type": "code",
      "execution_count": null,
      "metadata": {
        "id": "eae6b124",
        "colab": {
          "base_uri": "https://localhost:8080/"
        },
        "outputId": "ae040da8-cb08-4ed5-9f69-0a9bef40578c"
      },
      "outputs": [
        {
          "output_type": "execute_result",
          "data": {
            "text/plain": [
              "0"
            ]
          },
          "metadata": {},
          "execution_count": 37
        }
      ],
      "source": [
        "y_test = np.argmax(y_test, axis=None)\n"
      ],
      "id": "eae6b124"
    },
    {
      "cell_type": "code",
      "execution_count": null,
      "metadata": {
        "id": "655acaec",
        "colab": {
          "base_uri": "https://localhost:8080/"
        },
        "outputId": "b7f06fc9-e392-4591-ad10-d7974aa01f6b"
      },
      "outputs": [
        {
          "output_type": "stream",
          "name": "stdout",
          "text": [
            "Classification Report: \n",
            "               precision    recall  f1-score   support\n",
            "\n",
            "           0       0.95      1.00      0.98        20\n",
            "           1       0.74      0.70      0.72        20\n",
            "           2       0.88      0.70      0.78        20\n",
            "           3       0.74      0.85      0.79        20\n",
            "           4       0.95      0.90      0.92        20\n",
            "           5       0.91      1.00      0.95        20\n",
            "\n",
            "    accuracy                           0.86       120\n",
            "   macro avg       0.86      0.86      0.86       120\n",
            "weighted avg       0.86      0.86      0.86       120\n",
            "\n"
          ]
        }
      ],
      "source": [
        "print(\"Classification Report: \\n\", classification_report(y_test, y_pred_classes))"
      ],
      "id": "655acaec"
    },
    {
      "cell_type": "code",
      "execution_count": null,
      "metadata": {
        "id": "612fc356",
        "scrolled": true
      },
      "outputs": [],
      "source": [
        "cm = confusion_matrix(y_test, y_pred_classes)\n",
        "disp = ConfusionMatrixDisplay(confusion_matrix=cm, display_labels=[\"nm\",\"sitdown\", \"standup\",\"walking\",\"falling\",\"getintobed\"])"
      ],
      "id": "612fc356"
    },
    {
      "cell_type": "code",
      "execution_count": null,
      "metadata": {
        "id": "f8e6d778",
        "colab": {
          "base_uri": "https://localhost:8080/",
          "height": 283
        },
        "outputId": "aa68d3f9-0ad4-483c-df80-7017ebde8e18"
      },
      "outputs": [
        {
          "output_type": "display_data",
          "data": {
            "text/plain": [
              "<Figure size 432x288 with 2 Axes>"
            ],
            "image/png": "[encoded data removed]"
          },
          "metadata": {
            "needs_background": "light"
          }
        }
      ],
      "source": [
        "disp.plot(cmap = \"Blues\")\n",
        "plt.show()"
      ],
      "id": "f8e6d778"
    },
    {
      "cell_type": "code",
      "source": [
        ""
      ],
      "metadata": {
        "id": "abF4axW-Wn6r"
      },
      "id": "abF4axW-Wn6r",
      "execution_count": null,
      "outputs": []
    }
  ],
  "metadata": {
    "accelerator": "TPU",
    "colab": {
      "name": "Fition base",
      "provenance": [],
      "collapsed_sections": [],
      "toc_visible": true,
      "include_colab_link": true
    },
    "environment": {
      "kernel": "python3",
      "name": "tf2-gpu.2-6.m87",
      "type": "gcloud",
      "uri": "gcr.io/deeplearning-platform-release/tf2-gpu.2-6:m87"
    },
    "kernelspec": {
      "display_name": "Python 3 (ipykernel)",
      "language": "python",
      "name": "python3"
    },
    "language_info": {
      "codemirror_mode": {
        "name": "ipython",
        "version": 3
      },
      "file_extension": ".py",
      "mimetype": "text/x-python",
      "name": "python",
      "nbconvert_exporter": "python",
      "pygments_lexer": "ipython3",
      "version": "3.9.7"
    }
  },
  "nbformat": 4,
  "nbformat_minor": 5
}