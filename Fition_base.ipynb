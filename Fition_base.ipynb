{
  "cells": [
    {
      "cell_type": "markdown",
      "metadata": {
        "id": "view-in-github",
        "colab_type": "text"
      },
      "source": [
        "<a href=\"https://colab.research.google.com/github/hiranlowe/FitionModel/blob/main/Fition_base.ipynb\" target=\"_parent\"><img src=\"https://colab.research.google.com/assets/colab-badge.svg\" alt=\"Open In Colab\"/></a>"
      ]
    },
    {
      "cell_type": "markdown",
      "source": [
        "Importing Libraries\n",
        "\n",
        "\n"
      ],
      "metadata": {
        "id": "QclDr1Q_S7ks"
      },
      "id": "QclDr1Q_S7ks"
    },
    {
      "cell_type": "code",
      "execution_count": 22,
      "metadata": {
        "id": "d49b1cb3"
      },
      "outputs": [],
      "source": [
        "\n",
        "import os\n",
        "from google.colab import drive\n",
        "\n",
        "import tensorflow as tf\n",
        "\n",
        "import matplotlib.pyplot as plt\n",
        "import numpy as np\n",
        "import seaborn as sns\n",
        "\n",
        "from numpy import mean\n",
        "from numpy import std\n",
        "from numpy import dstack\n",
        "from pandas import read_csv\n",
        "\n",
        "from tensorflow.keras import layers, models\n",
        "from tensorflow.keras.models import Sequential\n",
        "from tensorflow.keras.utils import to_categorical\n",
        "from tensorflow.keras.layers import BatchNormalization\n",
        "from tensorflow.keras.layers import Activation, Bidirectional, Conv1D, MaxPool1D, BatchNormalization, Dense, LSTM\n",
        "\n",
        "from sklearn.metrics import confusion_matrix, ConfusionMatrixDisplay, classification_report\n",
        "\n",
        "import zipfile\n"
      ],
      "id": "d49b1cb3"
    },
    {
      "cell_type": "markdown",
      "source": [
        "Initialize TPU"
      ],
      "metadata": {
        "id": "YqDgThxX2USM"
      },
      "id": "YqDgThxX2USM"
    },
    {
      "cell_type": "code",
      "source": [
        "# Function to get hardware strategy\n",
        "def get_hardware_strategy():\n",
        "    try:\n",
        "        # TPU detection. No parameters necessary if TPU_NAME environment variable is\n",
        "        # set: this is always the case on Kaggle.\n",
        "        tpu = tf.distribute.cluster_resolver.TPUClusterResolver()\n",
        "        print('Running on TPU ', tpu.master())\n",
        "    except ValueError:\n",
        "        tpu = None\n",
        "\n",
        "    if tpu:\n",
        "        tf.config.experimental_connect_to_cluster(tpu)\n",
        "        tf.tpu.experimental.initialize_tpu_system(tpu)\n",
        "        strategy = tf.distribute.experimental.TPUStrategy(tpu)\n",
        "        tf.config.optimizer.set_jit(True)\n",
        "    else:\n",
        "        # Default distribution strategy in Tensorflow. Works on CPU and single GPU.\n",
        "        strategy = tf.distribute.get_strategy()\n",
        "\n",
        "    return tpu, strategy\n",
        "\n",
        "tpu, strategy = get_hardware_strategy()\n"
      ],
      "metadata": {
        "colab": {
          "base_uri": "https://localhost:8080/"
        },
        "id": "Ljb_0jk2g8iA",
        "outputId": "3bbdce69-a301-497e-f4b6-eb40f4e45d3e"
      },
      "id": "Ljb_0jk2g8iA",
      "execution_count": 23,
      "outputs": [
        {
          "output_type": "stream",
          "name": "stdout",
          "text": [
            "Running on TPU  grpc://10.69.168.146:8470\n",
            "INFO:tensorflow:Deallocate tpu buffers before initializing tpu system.\n"
          ]
        },
        {
          "output_type": "stream",
          "name": "stderr",
          "text": [
            "INFO:tensorflow:Deallocate tpu buffers before initializing tpu system.\n"
          ]
        },
        {
          "output_type": "stream",
          "name": "stdout",
          "text": [
            "WARNING:tensorflow:TPU system grpc://10.69.168.146:8470 has already been initialized. Reinitializing the TPU can cause previously created variables on TPU to be lost.\n"
          ]
        },
        {
          "output_type": "stream",
          "name": "stderr",
          "text": [
            "WARNING:tensorflow:TPU system grpc://10.69.168.146:8470 has already been initialized. Reinitializing the TPU can cause previously created variables on TPU to be lost.\n"
          ]
        },
        {
          "output_type": "stream",
          "name": "stdout",
          "text": [
            "INFO:tensorflow:Initializing the TPU system: grpc://10.69.168.146:8470\n"
          ]
        },
        {
          "output_type": "stream",
          "name": "stderr",
          "text": [
            "INFO:tensorflow:Initializing the TPU system: grpc://10.69.168.146:8470\n"
          ]
        },
        {
          "output_type": "stream",
          "name": "stdout",
          "text": [
            "INFO:tensorflow:Finished initializing TPU system.\n"
          ]
        },
        {
          "output_type": "stream",
          "name": "stderr",
          "text": [
            "INFO:tensorflow:Finished initializing TPU system.\n",
            "WARNING:absl:`tf.distribute.experimental.TPUStrategy` is deprecated, please use  the non experimental symbol `tf.distribute.TPUStrategy` instead.\n"
          ]
        },
        {
          "output_type": "stream",
          "name": "stdout",
          "text": [
            "INFO:tensorflow:Found TPU system:\n"
          ]
        },
        {
          "output_type": "stream",
          "name": "stderr",
          "text": [
            "INFO:tensorflow:Found TPU system:\n"
          ]
        },
        {
          "output_type": "stream",
          "name": "stdout",
          "text": [
            "INFO:tensorflow:*** Num TPU Cores: 8\n"
          ]
        },
        {
          "output_type": "stream",
          "name": "stderr",
          "text": [
            "INFO:tensorflow:*** Num TPU Cores: 8\n"
          ]
        },
        {
          "output_type": "stream",
          "name": "stdout",
          "text": [
            "INFO:tensorflow:*** Num TPU Workers: 1\n"
          ]
        },
        {
          "output_type": "stream",
          "name": "stderr",
          "text": [
            "INFO:tensorflow:*** Num TPU Workers: 1\n"
          ]
        },
        {
          "output_type": "stream",
          "name": "stdout",
          "text": [
            "INFO:tensorflow:*** Num TPU Cores Per Worker: 8\n"
          ]
        },
        {
          "output_type": "stream",
          "name": "stderr",
          "text": [
            "INFO:tensorflow:*** Num TPU Cores Per Worker: 8\n"
          ]
        },
        {
          "output_type": "stream",
          "name": "stdout",
          "text": [
            "INFO:tensorflow:*** Available Device: _DeviceAttributes(/job:localhost/replica:0/task:0/device:CPU:0, CPU, 0, 0)\n"
          ]
        },
        {
          "output_type": "stream",
          "name": "stderr",
          "text": [
            "INFO:tensorflow:*** Available Device: _DeviceAttributes(/job:localhost/replica:0/task:0/device:CPU:0, CPU, 0, 0)\n"
          ]
        },
        {
          "output_type": "stream",
          "name": "stdout",
          "text": [
            "INFO:tensorflow:*** Available Device: _DeviceAttributes(/job:worker/replica:0/task:0/device:CPU:0, CPU, 0, 0)\n"
          ]
        },
        {
          "output_type": "stream",
          "name": "stderr",
          "text": [
            "INFO:tensorflow:*** Available Device: _DeviceAttributes(/job:worker/replica:0/task:0/device:CPU:0, CPU, 0, 0)\n"
          ]
        },
        {
          "output_type": "stream",
          "name": "stdout",
          "text": [
            "INFO:tensorflow:*** Available Device: _DeviceAttributes(/job:worker/replica:0/task:0/device:TPU:0, TPU, 0, 0)\n"
          ]
        },
        {
          "output_type": "stream",
          "name": "stderr",
          "text": [
            "INFO:tensorflow:*** Available Device: _DeviceAttributes(/job:worker/replica:0/task:0/device:TPU:0, TPU, 0, 0)\n"
          ]
        },
        {
          "output_type": "stream",
          "name": "stdout",
          "text": [
            "INFO:tensorflow:*** Available Device: _DeviceAttributes(/job:worker/replica:0/task:0/device:TPU:1, TPU, 0, 0)\n"
          ]
        },
        {
          "output_type": "stream",
          "name": "stderr",
          "text": [
            "INFO:tensorflow:*** Available Device: _DeviceAttributes(/job:worker/replica:0/task:0/device:TPU:1, TPU, 0, 0)\n"
          ]
        },
        {
          "output_type": "stream",
          "name": "stdout",
          "text": [
            "INFO:tensorflow:*** Available Device: _DeviceAttributes(/job:worker/replica:0/task:0/device:TPU:2, TPU, 0, 0)\n"
          ]
        },
        {
          "output_type": "stream",
          "name": "stderr",
          "text": [
            "INFO:tensorflow:*** Available Device: _DeviceAttributes(/job:worker/replica:0/task:0/device:TPU:2, TPU, 0, 0)\n"
          ]
        },
        {
          "output_type": "stream",
          "name": "stdout",
          "text": [
            "INFO:tensorflow:*** Available Device: _DeviceAttributes(/job:worker/replica:0/task:0/device:TPU:3, TPU, 0, 0)\n"
          ]
        },
        {
          "output_type": "stream",
          "name": "stderr",
          "text": [
            "INFO:tensorflow:*** Available Device: _DeviceAttributes(/job:worker/replica:0/task:0/device:TPU:3, TPU, 0, 0)\n"
          ]
        },
        {
          "output_type": "stream",
          "name": "stdout",
          "text": [
            "INFO:tensorflow:*** Available Device: _DeviceAttributes(/job:worker/replica:0/task:0/device:TPU:4, TPU, 0, 0)\n"
          ]
        },
        {
          "output_type": "stream",
          "name": "stderr",
          "text": [
            "INFO:tensorflow:*** Available Device: _DeviceAttributes(/job:worker/replica:0/task:0/device:TPU:4, TPU, 0, 0)\n"
          ]
        },
        {
          "output_type": "stream",
          "name": "stdout",
          "text": [
            "INFO:tensorflow:*** Available Device: _DeviceAttributes(/job:worker/replica:0/task:0/device:TPU:5, TPU, 0, 0)\n"
          ]
        },
        {
          "output_type": "stream",
          "name": "stderr",
          "text": [
            "INFO:tensorflow:*** Available Device: _DeviceAttributes(/job:worker/replica:0/task:0/device:TPU:5, TPU, 0, 0)\n"
          ]
        },
        {
          "output_type": "stream",
          "name": "stdout",
          "text": [
            "INFO:tensorflow:*** Available Device: _DeviceAttributes(/job:worker/replica:0/task:0/device:TPU:6, TPU, 0, 0)\n"
          ]
        },
        {
          "output_type": "stream",
          "name": "stderr",
          "text": [
            "INFO:tensorflow:*** Available Device: _DeviceAttributes(/job:worker/replica:0/task:0/device:TPU:6, TPU, 0, 0)\n"
          ]
        },
        {
          "output_type": "stream",
          "name": "stdout",
          "text": [
            "INFO:tensorflow:*** Available Device: _DeviceAttributes(/job:worker/replica:0/task:0/device:TPU:7, TPU, 0, 0)\n"
          ]
        },
        {
          "output_type": "stream",
          "name": "stderr",
          "text": [
            "INFO:tensorflow:*** Available Device: _DeviceAttributes(/job:worker/replica:0/task:0/device:TPU:7, TPU, 0, 0)\n"
          ]
        },
        {
          "output_type": "stream",
          "name": "stdout",
          "text": [
            "INFO:tensorflow:*** Available Device: _DeviceAttributes(/job:worker/replica:0/task:0/device:TPU_SYSTEM:0, TPU_SYSTEM, 0, 0)\n"
          ]
        },
        {
          "output_type": "stream",
          "name": "stderr",
          "text": [
            "INFO:tensorflow:*** Available Device: _DeviceAttributes(/job:worker/replica:0/task:0/device:TPU_SYSTEM:0, TPU_SYSTEM, 0, 0)\n"
          ]
        },
        {
          "output_type": "stream",
          "name": "stdout",
          "text": [
            "INFO:tensorflow:*** Available Device: _DeviceAttributes(/job:worker/replica:0/task:0/device:XLA_CPU:0, XLA_CPU, 0, 0)\n"
          ]
        },
        {
          "output_type": "stream",
          "name": "stderr",
          "text": [
            "INFO:tensorflow:*** Available Device: _DeviceAttributes(/job:worker/replica:0/task:0/device:XLA_CPU:0, XLA_CPU, 0, 0)\n"
          ]
        }
      ]
    },
    {
      "cell_type": "markdown",
      "source": [
        "CSI packet processing function"
      ],
      "metadata": {
        "id": "IarFQgBeTv-G"
      },
      "id": "IarFQgBeTv-G"
    },
    {
      "cell_type": "code",
      "execution_count": 24,
      "metadata": {
        "id": "cc080527"
      },
      "outputs": [],
      "source": [
        "def _read_csi_next(pcapfile, csi_size):\n",
        "    \"\"\"\n",
        "    Note: Designed for internal use only.\n",
        "    \n",
        "    Parameters\n",
        "    ----------\n",
        "        pcapfile : File Object\n",
        "        csi_size : Expected length of CSI in bytes. NFFT * 4\n",
        "    \"\"\"\n",
        "\n",
        "    # Read Frame Size\n",
        "    pcapfile.seek(8, os.SEEK_CUR)\n",
        "    frame_size = int.from_bytes(\n",
        "        pcapfile.read(4),\n",
        "        byteorder = 'little',\n",
        "        signed = False\n",
        "    )\n",
        "\n",
        "    # Skip some stuff\n",
        "    pcapfile.seek(56, os.SEEK_CUR)\n",
        "\n",
        "    # Read CSI data\n",
        "    pcapfile.seek(8, os.SEEK_CUR)\n",
        "    csi = np.frombuffer(\n",
        "        pcapfile.read(csi_size), \n",
        "        dtype = np.int16,\n",
        "        count = int(csi_size / 2)\n",
        "    )\n",
        "\n",
        "    # Skip any zero-padding\n",
        "    pcapfile.seek((frame_size - csi_size - 60), os.SEEK_CUR)\n",
        "\n",
        "    return csi\n",
        "\n",
        "def read_csi(pcap_file_path):\n",
        "    \"\"\"\n",
        "    You have to remove \n",
        "    null and pilot subcarriers\n",
        "    yourself.\n",
        "\n",
        "    Parameters\n",
        "    ----------\n",
        "        pcap_file_path : str\n",
        "    \"\"\"\n",
        "\n",
        "    bandwidth = 80\n",
        "\n",
        "    NFFT = int(bandwidth * 3.2) # Number of channels in FFT\n",
        "    chunksize = 1024\n",
        "\n",
        "    csi  = np.zeros((chunksize, NFFT * 2), dtype = 'int16')\n",
        "\n",
        "    with open(pcap_file_path, 'rb') as pcapfile:\n",
        "        filesize = os.stat(pcap_file_path).st_size\n",
        "        pcapfile.seek(24, os.SEEK_SET)\n",
        "\n",
        "        npackets = 0\n",
        "        while pcapfile.tell() < filesize:\n",
        "            if not (npackets % chunksize):\n",
        "                csi = np.vstack((csi, np.zeros((chunksize, NFFT * 2), dtype = 'int16')))\n",
        "\n",
        "            csi[npackets] = _read_csi_next(pcapfile, NFFT * 4)\n",
        "            \n",
        "            npackets += 1\n",
        "\n",
        "    # Convert CSI complex numbers to Magnitude.\n",
        "    csi_converted = np.abs(\n",
        "        np.fft.fftshift(csi[:npackets, ::2] + 1.j * csi[:npackets, 1::2], axes=(1,))\n",
        "    )\n",
        "\n",
        "    return csi_converted"
      ],
      "id": "cc080527"
    },
    {
      "cell_type": "markdown",
      "source": [
        "Processing data set files\n",
        "\n",
        "\n",
        "> Import files -> call the above function -> remove unrelevant subcarriers \n",
        "\n"
      ],
      "metadata": {
        "id": "ZRk-I2NbUE9u"
      },
      "id": "ZRk-I2NbUE9u"
    },
    {
      "cell_type": "code",
      "execution_count": 25,
      "metadata": {
        "id": "bd1d2460",
        "scrolled": true,
        "colab": {
          "base_uri": "https://localhost:8080/"
        },
        "outputId": "97699140-50a7-446c-e64b-58b25b656955"
      },
      "outputs": [
        {
          "output_type": "stream",
          "name": "stdout",
          "text": [
            "Drive already mounted at /content/gdrive; to attempt to forcibly remount, call drive.mount(\"/content/gdrive\", force_remount=True).\n"
          ]
        }
      ],
      "source": [
        "drive.mount(\"/content/gdrive\")\n",
        "with zipfile.ZipFile('/content/gdrive/My Drive/Fition Dataset.zip', 'r') as zip_ref:\n",
        "    zip_ref.extractall('')\n",
        "\n",
        "movement_data=[]\n",
        "values={0:\"nm\",1:\"sitdown\", 2:\"standup\",3:\"walking\",4:\"falling\",5:\"getintobed\"}\n",
        "for key, value in values.items():\n",
        "    for i in range(1,31):\n",
        "        for j in range(1,5):\n",
        "            file_path = \"Fition Dataset/\"+value+\"_user\"+str(j)+\"_rm\"+str(j)+\"/\"+value+\"_user\"+str(j)+\"_rm\"+str(j)+\"_\"+str(i)+\".pcap\"\n",
        "            # print(file_path)\n",
        "            csi = read_csi(file_path)\n",
        "        # 80 MHz\n",
        "            nullsubcarriers  = np.array([x+128 for x in [-128, -127, -126, -125, -124, -123, -1, 0, 1, 123, 124, 125, 126, 127]])\n",
        "            pilotsubcarriers = np.array([x+128 for x in [-103, -75, -39, -11, 11, 39, 75, 103]])\n",
        "\n",
        "        # 40 MHz\n",
        "        #  nullsubcarriers = [x+64 for x in [-64, -63, -62, -61, -60, -59, -1, 0, 1, 59, 60, 61, 62, 63]]\n",
        "        #  pilotsubcarriers = [x+64 for x in [11, 25, 53, -11, -25, -53]]\n",
        "\n",
        "            csi=np.delete(csi,np.s_[nullsubcarriers],axis=1)\n",
        "            csi=np.delete(csi,np.s_[pilotsubcarriers],axis=1)\n",
        "            movement_data.append(csi)\n",
        "        \n",
        "   "
      ],
      "id": "bd1d2460"
    },
    {
      "cell_type": "markdown",
      "source": [
        "Shape of the input"
      ],
      "metadata": {
        "id": "su5UoYUCUEYf"
      },
      "id": "su5UoYUCUEYf"
    },
    {
      "cell_type": "code",
      "execution_count": 26,
      "metadata": {
        "colab": {
          "base_uri": "https://localhost:8080/"
        },
        "id": "c2525970",
        "outputId": "b56c5fdf-6188-43ee-f306-daaf587f5a93"
      },
      "outputs": [
        {
          "output_type": "execute_result",
          "data": {
            "text/plain": [
              "(720, 500, 234)"
            ]
          },
          "metadata": {},
          "execution_count": 26
        }
      ],
      "source": [
        "x=np.array(movement_data)\n",
        "x.shape"
      ],
      "id": "c2525970"
    },
    {
      "cell_type": "markdown",
      "source": [
        "Creating train, validation and test inputs"
      ],
      "metadata": {
        "id": "GB8e7daTUkPT"
      },
      "id": "GB8e7daTUkPT"
    },
    {
      "cell_type": "code",
      "execution_count": 27,
      "metadata": {
        "colab": {
          "base_uri": "https://localhost:8080/"
        },
        "id": "fc3960d1",
        "outputId": "909e339f-f0d5-401d-89f4-636de25e56e0"
      },
      "outputs": [
        {
          "output_type": "stream",
          "name": "stdout",
          "text": [
            "600\n",
            "0\n",
            "120\n"
          ]
        }
      ],
      "source": [
        "x_train = []\n",
        "x_valid = []\n",
        "x_test = []\n",
        "ind_list = []\n",
        "for i in range(0, 720, 6):\n",
        "    ind_list.append(i)\n",
        "    # print(len(ind_list))\n",
        "for i in range(0, 720):\n",
        "    if(i in ind_list):\n",
        "        x_test.append(x[i])\n",
        "    # elif(i-1 in ind_list):\n",
        "    #     x_valid.append(x[i])\n",
        "        # print(i)\n",
        "    else:\n",
        "        x_train.append(x[i])\n",
        "\n",
        "\n",
        "\n",
        "x_train = np.array(x_train)\n",
        "x_valid = np.array(x_valid)\n",
        "x_test = np.array(x_test)\n",
        "print(len(x_train))\n",
        "print(len(x_valid))\n",
        "print(len(x_test))"
      ],
      "id": "fc3960d1"
    },
    {
      "cell_type": "markdown",
      "source": [
        "Creating train, validation and test labels"
      ],
      "metadata": {
        "id": "uv5vG7lGUulD"
      },
      "id": "uv5vG7lGUulD"
    },
    {
      "cell_type": "code",
      "execution_count": 28,
      "metadata": {
        "colab": {
          "base_uri": "https://localhost:8080/"
        },
        "id": "eee46ebb",
        "outputId": "8663cd75-305a-417e-ae6a-5b7badfda6c2"
      },
      "outputs": [
        {
          "output_type": "execute_result",
          "data": {
            "text/plain": [
              "(600,)"
            ]
          },
          "metadata": {},
          "execution_count": 28
        }
      ],
      "source": [
        "y_train = []\n",
        "for i in range(6):\n",
        "    y_train.append([i for _ in range(80)])\n",
        "\n",
        "y_train = np.array(y_train)\n",
        "y_train.shape"
      ],
      "id": "eee46ebb"
    },
    {
      "cell_type": "code",
      "source": [
        "y_valid = []\n",
        "for i in range(6):\n",
        "    y_valid.append([i for _ in range(20)])\n",
        "\n",
        "y_valid = np.array(y_valid)\n",
        "y_valid.shape"
      ],
      "metadata": {
        "colab": {
          "base_uri": "https://localhost:8080/"
        },
        "id": "er8nF_ry_ct2",
        "outputId": "6e926187-5d41-4d1e-e4fc-a45950d3bbcd"
      },
      "id": "er8nF_ry_ct2",
      "execution_count": 29,
      "outputs": [
        {
          "output_type": "execute_result",
          "data": {
            "text/plain": [
              "(120,)"
            ]
          },
          "metadata": {},
          "execution_count": 29
        }
      ]
    },
    {
      "cell_type": "code",
      "execution_count": 30,
      "metadata": {
        "colab": {
          "base_uri": "https://localhost:8080/"
        },
        "id": "591d278c",
        "outputId": "30fa2669-c0b2-447f-ffca-20512956197b"
      },
      "outputs": [
        {
          "output_type": "execute_result",
          "data": {
            "text/plain": [
              "(120,)"
            ]
          },
          "metadata": {},
          "execution_count": 30
        }
      ],
      "source": [
        "y_test = []\n",
        "for i in range(6):\n",
        "    y_test.append([i for _ in range(20)])\n",
        "\n",
        "y_test = np.array(y_test)\n",
        "y_test.shape"
      ],
      "id": "591d278c"
    },
    {
      "cell_type": "markdown",
      "source": [
        "Encoding Labels"
      ],
      "metadata": {
        "id": "clwHpo0_U6pw"
      },
      "id": "clwHpo0_U6pw"
    },
    {
      "cell_type": "code",
      "execution_count": 31,
      "metadata": {
        "id": "55c80848"
      },
      "outputs": [],
      "source": [
        "y_train=to_categorical(y_train)\n",
        "y_valid=to_categorical(y_valid)\n",
        "y_test=to_categorical(y_test)"
      ],
      "id": "55c80848"
    },
    {
      "cell_type": "code",
      "execution_count": 32,
      "metadata": {
        "colab": {
          "base_uri": "https://localhost:8080/"
        },
        "id": "d66669db",
        "outputId": "a1254730-717f-40c2-ba32-a60a6a5ca7ea"
      },
      "outputs": [
        {
          "output_type": "execute_result",
          "data": {
            "text/plain": [
              "(600, 6)"
            ]
          },
          "metadata": {},
          "execution_count": 32
        }
      ],
      "source": [
        "y_train.shape"
      ],
      "id": "d66669db"
    },
    {
      "cell_type": "code",
      "source": [
        "y_valid.shape\n"
      ],
      "metadata": {
        "colab": {
          "base_uri": "https://localhost:8080/"
        },
        "id": "VZd_2_8kh9JU",
        "outputId": "aaabb2af-5633-491c-d6c9-46a714b39a82"
      },
      "id": "VZd_2_8kh9JU",
      "execution_count": 33,
      "outputs": [
        {
          "output_type": "execute_result",
          "data": {
            "text/plain": [
              "(120, 6)"
            ]
          },
          "metadata": {},
          "execution_count": 33
        }
      ]
    },
    {
      "cell_type": "code",
      "source": [
        "y_test.shape\n"
      ],
      "metadata": {
        "colab": {
          "base_uri": "https://localhost:8080/"
        },
        "id": "cFAWNrfYh-7r",
        "outputId": "bf47ff82-c6d8-430f-f21b-8243fe9e6b8a"
      },
      "id": "cFAWNrfYh-7r",
      "execution_count": 34,
      "outputs": [
        {
          "output_type": "execute_result",
          "data": {
            "text/plain": [
              "(120, 6)"
            ]
          },
          "metadata": {},
          "execution_count": 34
        }
      ]
    },
    {
      "cell_type": "markdown",
      "source": [
        "Input shape variables"
      ],
      "metadata": {
        "id": "L1qqq_VhVMIl"
      },
      "id": "L1qqq_VhVMIl"
    },
    {
      "cell_type": "code",
      "execution_count": 35,
      "metadata": {
        "id": "54e15623"
      },
      "outputs": [],
      "source": [
        "input_length, input_features = 500, 234"
      ],
      "id": "54e15623"
    },
    {
      "cell_type": "markdown",
      "source": [
        "Keras ConvLSTM Model"
      ],
      "metadata": {
        "id": "R02P_PhjVPRh"
      },
      "id": "R02P_PhjVPRh"
    },
    {
      "cell_type": "code",
      "execution_count": 36,
      "metadata": {
        "id": "52af60fd",
        "scrolled": true
      },
      "outputs": [],
      "source": [
        "def create_model():\n",
        "  model = Sequential()\n",
        "\n",
        "  model.add(layers.Conv1D(filters=128, kernel_size=5, input_shape=(input_length, input_features)))\n",
        "  model.add(BatchNormalization())\n",
        "  model.add(Activation('relu'))\n",
        "  model.add(BatchNormalization())\n",
        "\n",
        "  model.add(layers.Conv1D(filters=128, kernel_size=5, input_shape=(input_length, input_length)))\n",
        "  model.add(BatchNormalization())\n",
        "  model.add(Activation('tanh'))\n",
        "  model.add(BatchNormalization())\n",
        "\n",
        "  model.add(layers.MaxPool1D())\n",
        "\n",
        "  model.add(layers.Bidirectional(layers.LSTM(200, return_sequences=True)))\n",
        "  model.add(layers.Bidirectional(layers.LSTM(200, return_sequences=True)))\n",
        "  model.add(layers.Bidirectional(layers.LSTM(200, return_sequences=True)))\n",
        "  model.add(layers.Bidirectional(layers.LSTM(200)))\n",
        "\n",
        "  model.add(Dense(6))\n",
        "  model.add(Activation('softmax'))\n",
        "\n",
        "  optimizer = tf.keras.optimizers.Adam(learning_rate=0.0001)\n",
        "\n",
        "  model.compile(loss='categorical_crossentropy', optimizer=optimizer, metrics=['accuracy'])\n",
        "\n",
        "  return model\n"
      ],
      "id": "52af60fd"
    },
    {
      "cell_type": "code",
      "execution_count": 37,
      "metadata": {
        "id": "af5fb07f-5624-4643-86a6-7476dc088fd9",
        "scrolled": true,
        "colab": {
          "base_uri": "https://localhost:8080/",
          "height": 1000
        },
        "outputId": "d59b9e51-08ae-45bf-eb05-b6b80979e07d"
      },
      "outputs": [
        {
          "output_type": "stream",
          "name": "stdout",
          "text": [
            "Epoch 1/2000\n",
            "6/6 [==============================] - 29s 449ms/step - loss: 1.6694 - accuracy: 0.3967\n",
            "Epoch 2/2000\n",
            "6/6 [==============================] - 3s 447ms/step - loss: 1.4642 - accuracy: 0.4483\n",
            "Epoch 3/2000\n",
            "6/6 [==============================] - 3s 447ms/step - loss: 1.3036 - accuracy: 0.4917\n",
            "Epoch 4/2000\n",
            "6/6 [==============================] - 3s 448ms/step - loss: 1.1699 - accuracy: 0.5883\n",
            "Epoch 5/2000\n",
            "6/6 [==============================] - 3s 449ms/step - loss: 1.0300 - accuracy: 0.6200\n",
            "Epoch 6/2000\n",
            "6/6 [==============================] - 3s 447ms/step - loss: 0.8967 - accuracy: 0.6833\n",
            "Epoch 7/2000\n",
            "6/6 [==============================] - 3s 449ms/step - loss: 0.8593 - accuracy: 0.6850\n",
            "Epoch 8/2000\n",
            "6/6 [==============================] - 3s 448ms/step - loss: 0.7349 - accuracy: 0.7183\n",
            "Epoch 9/2000\n",
            "6/6 [==============================] - 3s 449ms/step - loss: 0.6443 - accuracy: 0.7650\n",
            "Epoch 10/2000\n",
            "6/6 [==============================] - 3s 447ms/step - loss: 0.6375 - accuracy: 0.7617\n",
            "Epoch 11/2000\n",
            "6/6 [==============================] - 3s 455ms/step - loss: 0.5577 - accuracy: 0.7950\n",
            "Epoch 12/2000\n",
            "6/6 [==============================] - 3s 450ms/step - loss: 0.5090 - accuracy: 0.8083\n",
            "Epoch 13/2000\n",
            "6/6 [==============================] - 3s 449ms/step - loss: 0.4761 - accuracy: 0.8367\n",
            "Epoch 14/2000\n",
            "6/6 [==============================] - 3s 449ms/step - loss: 0.4381 - accuracy: 0.8500\n",
            "Epoch 15/2000\n",
            "6/6 [==============================] - 3s 448ms/step - loss: 0.4225 - accuracy: 0.8433\n",
            "Epoch 16/2000\n",
            "6/6 [==============================] - 3s 449ms/step - loss: 0.3644 - accuracy: 0.8983\n",
            "Epoch 17/2000\n",
            "6/6 [==============================] - 3s 451ms/step - loss: 0.3282 - accuracy: 0.8783\n",
            "Epoch 18/2000\n",
            "6/6 [==============================] - 3s 449ms/step - loss: 0.3480 - accuracy: 0.8967\n",
            "Epoch 19/2000\n",
            "6/6 [==============================] - 3s 448ms/step - loss: 0.3208 - accuracy: 0.8983\n",
            "Epoch 20/2000\n",
            "6/6 [==============================] - 3s 455ms/step - loss: 0.2727 - accuracy: 0.9000\n",
            "Epoch 21/2000\n",
            "6/6 [==============================] - 3s 446ms/step - loss: 0.2299 - accuracy: 0.9117\n",
            "Epoch 22/2000\n",
            "6/6 [==============================] - 3s 450ms/step - loss: 0.2111 - accuracy: 0.9333\n",
            "Epoch 23/2000\n",
            "6/6 [==============================] - 3s 455ms/step - loss: 0.2040 - accuracy: 0.9400\n",
            "Epoch 24/2000\n",
            "6/6 [==============================] - 3s 457ms/step - loss: 0.1993 - accuracy: 0.9333\n",
            "Epoch 25/2000\n",
            "6/6 [==============================] - 3s 452ms/step - loss: 0.2155 - accuracy: 0.9367\n",
            "Epoch 26/2000\n",
            "6/6 [==============================] - 3s 451ms/step - loss: 0.1919 - accuracy: 0.9450\n",
            "Epoch 27/2000\n",
            "6/6 [==============================] - 3s 451ms/step - loss: 0.1623 - accuracy: 0.9467\n",
            "Epoch 28/2000\n",
            "6/6 [==============================] - 3s 454ms/step - loss: 0.1497 - accuracy: 0.9517\n",
            "Epoch 29/2000\n",
            "6/6 [==============================] - 3s 454ms/step - loss: 0.1932 - accuracy: 0.9317\n",
            "Epoch 30/2000\n",
            "6/6 [==============================] - 3s 450ms/step - loss: 0.1637 - accuracy: 0.9450\n",
            "Epoch 31/2000\n",
            "6/6 [==============================] - 3s 454ms/step - loss: 0.1440 - accuracy: 0.9600\n",
            "Epoch 32/2000\n",
            "6/6 [==============================] - 3s 460ms/step - loss: 0.1193 - accuracy: 0.9700\n",
            "Epoch 33/2000\n",
            "6/6 [==============================] - 3s 449ms/step - loss: 0.1186 - accuracy: 0.9667\n",
            "Epoch 34/2000\n",
            "6/6 [==============================] - 3s 458ms/step - loss: 0.1194 - accuracy: 0.9567\n",
            "Epoch 35/2000\n",
            "6/6 [==============================] - 3s 456ms/step - loss: 0.1383 - accuracy: 0.9583\n",
            "Epoch 36/2000\n",
            "6/6 [==============================] - 3s 450ms/step - loss: 0.1400 - accuracy: 0.9567\n",
            "Epoch 37/2000\n",
            "6/6 [==============================] - 3s 447ms/step - loss: 0.1392 - accuracy: 0.9567\n",
            "Epoch 38/2000\n",
            "6/6 [==============================] - 3s 448ms/step - loss: 0.1655 - accuracy: 0.9500\n",
            "Epoch 39/2000\n",
            "6/6 [==============================] - 3s 447ms/step - loss: 0.1466 - accuracy: 0.9500\n",
            "Epoch 40/2000\n",
            "6/6 [==============================] - 3s 449ms/step - loss: 0.0906 - accuracy: 0.9783\n",
            "Epoch 41/2000\n",
            "6/6 [==============================] - 3s 449ms/step - loss: 0.1075 - accuracy: 0.9717\n",
            "Epoch 42/2000\n",
            "6/6 [==============================] - 3s 448ms/step - loss: 0.0528 - accuracy: 0.9983\n",
            "Epoch 43/2000\n",
            "6/6 [==============================] - 3s 457ms/step - loss: 0.0638 - accuracy: 0.9833\n",
            "Epoch 44/2000\n",
            "6/6 [==============================] - 3s 450ms/step - loss: 0.0523 - accuracy: 0.9917\n",
            "Epoch 45/2000\n",
            "6/6 [==============================] - 3s 454ms/step - loss: 0.0922 - accuracy: 0.9717\n",
            "Epoch 46/2000\n",
            "6/6 [==============================] - 3s 451ms/step - loss: 0.0549 - accuracy: 0.9900\n",
            "Epoch 47/2000\n",
            "6/6 [==============================] - 3s 450ms/step - loss: 0.0448 - accuracy: 0.9950\n",
            "Epoch 48/2000\n",
            "6/6 [==============================] - 3s 452ms/step - loss: 0.0538 - accuracy: 0.9883\n",
            "Epoch 49/2000\n",
            "6/6 [==============================] - 3s 455ms/step - loss: 0.0464 - accuracy: 0.9900\n",
            "Epoch 50/2000\n",
            "6/6 [==============================] - 3s 450ms/step - loss: 0.0423 - accuracy: 0.9950\n",
            "Epoch 51/2000\n",
            "6/6 [==============================] - 3s 454ms/step - loss: 0.0519 - accuracy: 0.9867\n",
            "Epoch 52/2000\n",
            "6/6 [==============================] - 3s 463ms/step - loss: 0.0543 - accuracy: 0.9850\n",
            "Epoch 53/2000\n",
            "6/6 [==============================] - 3s 460ms/step - loss: 0.0327 - accuracy: 0.9900\n",
            "Epoch 54/2000\n",
            "6/6 [==============================] - 3s 451ms/step - loss: 0.0260 - accuracy: 0.9983\n",
            "Epoch 55/2000\n",
            "6/6 [==============================] - 3s 448ms/step - loss: 0.0405 - accuracy: 0.9883\n",
            "Epoch 56/2000\n",
            "6/6 [==============================] - 3s 452ms/step - loss: 0.0409 - accuracy: 0.9867\n",
            "Epoch 57/2000\n",
            "6/6 [==============================] - 3s 451ms/step - loss: 0.0325 - accuracy: 0.9933\n",
            "Epoch 58/2000\n",
            "6/6 [==============================] - 3s 451ms/step - loss: 0.0388 - accuracy: 0.9850\n",
            "Epoch 59/2000\n",
            "6/6 [==============================] - 3s 457ms/step - loss: 0.0283 - accuracy: 0.9917\n",
            "Epoch 60/2000\n",
            "6/6 [==============================] - 3s 453ms/step - loss: 0.0305 - accuracy: 0.9917\n",
            "Epoch 61/2000\n",
            "6/6 [==============================] - 3s 454ms/step - loss: 0.0345 - accuracy: 0.9867\n",
            "Epoch 62/2000\n",
            "6/6 [==============================] - 3s 448ms/step - loss: 0.0562 - accuracy: 0.9800\n",
            "Epoch 63/2000\n",
            "6/6 [==============================] - 3s 449ms/step - loss: 0.0434 - accuracy: 0.9817\n",
            "Epoch 64/2000\n",
            "6/6 [==============================] - 3s 447ms/step - loss: 0.0303 - accuracy: 0.9917\n",
            "Epoch 65/2000\n",
            "6/6 [==============================] - 3s 450ms/step - loss: 0.0320 - accuracy: 0.9900\n",
            "Epoch 66/2000\n",
            "6/6 [==============================] - 3s 449ms/step - loss: 0.0282 - accuracy: 0.9933\n",
            "Epoch 67/2000\n",
            "6/6 [==============================] - 3s 447ms/step - loss: 0.0300 - accuracy: 0.9933\n",
            "Epoch 68/2000\n",
            "6/6 [==============================] - 3s 449ms/step - loss: 0.0440 - accuracy: 0.9850\n",
            "Epoch 69/2000\n",
            "6/6 [==============================] - 3s 447ms/step - loss: 0.0442 - accuracy: 0.9867\n",
            "Epoch 70/2000\n",
            "6/6 [==============================] - 3s 447ms/step - loss: 0.0483 - accuracy: 0.9850\n",
            "Epoch 71/2000\n",
            "6/6 [==============================] - 3s 449ms/step - loss: 0.0492 - accuracy: 0.9867\n",
            "Epoch 72/2000\n",
            "6/6 [==============================] - 3s 448ms/step - loss: 0.0730 - accuracy: 0.9700\n",
            "Epoch 73/2000\n",
            "6/6 [==============================] - 3s 448ms/step - loss: 0.0350 - accuracy: 0.9917\n",
            "Epoch 74/2000\n",
            "6/6 [==============================] - 3s 450ms/step - loss: 0.0624 - accuracy: 0.9800\n",
            "Epoch 75/2000\n",
            "6/6 [==============================] - 3s 451ms/step - loss: 0.0433 - accuracy: 0.9867\n",
            "Epoch 76/2000\n",
            "6/6 [==============================] - 3s 449ms/step - loss: 0.0547 - accuracy: 0.9850\n",
            "Epoch 77/2000\n",
            "6/6 [==============================] - 3s 447ms/step - loss: 0.0576 - accuracy: 0.9833\n",
            "Epoch 78/2000\n",
            "6/6 [==============================] - 3s 449ms/step - loss: 0.0571 - accuracy: 0.9833\n",
            "Epoch 79/2000\n",
            "6/6 [==============================] - 3s 451ms/step - loss: 0.0383 - accuracy: 0.9900\n",
            "Epoch 80/2000\n",
            "6/6 [==============================] - 3s 449ms/step - loss: 0.0207 - accuracy: 0.9983\n",
            "Epoch 81/2000\n",
            "6/6 [==============================] - 3s 448ms/step - loss: 0.0182 - accuracy: 0.9967\n",
            "Epoch 82/2000\n",
            "6/6 [==============================] - 3s 450ms/step - loss: 0.0180 - accuracy: 0.9950\n",
            "Epoch 83/2000\n",
            "6/6 [==============================] - 3s 446ms/step - loss: 0.0231 - accuracy: 0.9950\n",
            "Epoch 84/2000\n",
            "6/6 [==============================] - 3s 447ms/step - loss: 0.0189 - accuracy: 0.9950\n",
            "Epoch 85/2000\n",
            "6/6 [==============================] - 3s 449ms/step - loss: 0.0311 - accuracy: 0.9900\n",
            "Epoch 86/2000\n",
            "6/6 [==============================] - 3s 450ms/step - loss: 0.0175 - accuracy: 0.9967\n",
            "Epoch 87/2000\n",
            "6/6 [==============================] - 3s 449ms/step - loss: 0.0156 - accuracy: 1.0000\n",
            "Epoch 88/2000\n",
            "6/6 [==============================] - 3s 449ms/step - loss: 0.0255 - accuracy: 0.9917\n",
            "Epoch 89/2000\n",
            "6/6 [==============================] - 3s 449ms/step - loss: 0.0236 - accuracy: 0.9933\n",
            "Epoch 90/2000\n",
            "6/6 [==============================] - 3s 450ms/step - loss: 0.0299 - accuracy: 0.9933\n",
            "Epoch 91/2000\n",
            "6/6 [==============================] - 3s 447ms/step - loss: 0.0246 - accuracy: 0.9967\n",
            "Epoch 92/2000\n",
            "6/6 [==============================] - 3s 450ms/step - loss: 0.0189 - accuracy: 0.9950\n",
            "Epoch 93/2000\n",
            "6/6 [==============================] - 3s 451ms/step - loss: 0.0354 - accuracy: 0.9900\n",
            "Epoch 94/2000\n",
            "6/6 [==============================] - 3s 448ms/step - loss: 0.0331 - accuracy: 0.9883\n",
            "Epoch 95/2000\n",
            "6/6 [==============================] - 3s 449ms/step - loss: 0.0184 - accuracy: 0.9967\n",
            "Epoch 96/2000\n",
            "6/6 [==============================] - 3s 457ms/step - loss: 0.0220 - accuracy: 0.9950\n",
            "Epoch 97/2000\n",
            "6/6 [==============================] - 3s 455ms/step - loss: 0.0258 - accuracy: 0.9917\n",
            "Epoch 98/2000\n",
            "6/6 [==============================] - 3s 454ms/step - loss: 0.0073 - accuracy: 1.0000\n",
            "Epoch 99/2000\n",
            "6/6 [==============================] - 3s 455ms/step - loss: 0.0133 - accuracy: 0.9983\n",
            "Epoch 100/2000\n",
            "6/6 [==============================] - 3s 450ms/step - loss: 0.0118 - accuracy: 0.9983\n",
            "Epoch 101/2000\n",
            "6/6 [==============================] - 3s 450ms/step - loss: 0.0142 - accuracy: 0.9967\n",
            "Epoch 102/2000\n",
            "6/6 [==============================] - 3s 447ms/step - loss: 0.0116 - accuracy: 1.0000\n",
            "Epoch 103/2000\n",
            "6/6 [==============================] - 3s 449ms/step - loss: 0.0146 - accuracy: 0.9967\n",
            "Epoch 104/2000\n",
            "6/6 [==============================] - 3s 448ms/step - loss: 0.0082 - accuracy: 0.9983\n",
            "Epoch 105/2000\n",
            "6/6 [==============================] - 3s 450ms/step - loss: 0.0131 - accuracy: 0.9967\n",
            "Epoch 106/2000\n",
            "6/6 [==============================] - 3s 450ms/step - loss: 0.0190 - accuracy: 0.9917\n",
            "Epoch 107/2000\n",
            "6/6 [==============================] - 3s 451ms/step - loss: 0.0228 - accuracy: 0.9950\n",
            "Epoch 108/2000\n",
            "6/6 [==============================] - 3s 448ms/step - loss: 0.0127 - accuracy: 1.0000\n",
            "Epoch 109/2000\n",
            "6/6 [==============================] - 3s 448ms/step - loss: 0.0118 - accuracy: 0.9967\n",
            "Epoch 110/2000\n",
            "6/6 [==============================] - 3s 450ms/step - loss: 0.0113 - accuracy: 0.9983\n",
            "Epoch 111/2000\n",
            "6/6 [==============================] - 3s 447ms/step - loss: 0.0128 - accuracy: 0.9967\n",
            "Epoch 112/2000\n",
            "6/6 [==============================] - 3s 452ms/step - loss: 0.0098 - accuracy: 0.9983\n",
            "Epoch 113/2000\n",
            "6/6 [==============================] - 3s 450ms/step - loss: 0.0120 - accuracy: 0.9983\n",
            "Epoch 114/2000\n",
            "6/6 [==============================] - 3s 447ms/step - loss: 0.0133 - accuracy: 0.9983\n",
            "Epoch 115/2000\n",
            "6/6 [==============================] - 3s 449ms/step - loss: 0.0129 - accuracy: 0.9950\n",
            "Epoch 116/2000\n",
            "6/6 [==============================] - 3s 450ms/step - loss: 0.0195 - accuracy: 0.9933\n",
            "Epoch 117/2000\n",
            "6/6 [==============================] - 3s 448ms/step - loss: 0.0135 - accuracy: 0.9967\n",
            "Epoch 118/2000\n",
            "6/6 [==============================] - 3s 450ms/step - loss: 0.0173 - accuracy: 0.9983\n",
            "Epoch 119/2000\n",
            "6/6 [==============================] - 3s 450ms/step - loss: 0.0219 - accuracy: 0.9917\n",
            "Epoch 120/2000\n",
            "6/6 [==============================] - 3s 449ms/step - loss: 0.0135 - accuracy: 0.9983\n",
            "Epoch 121/2000\n",
            "6/6 [==============================] - 3s 448ms/step - loss: 0.0123 - accuracy: 0.9950\n",
            "Epoch 122/2000\n",
            "6/6 [==============================] - 3s 449ms/step - loss: 0.0123 - accuracy: 0.9967\n",
            "Epoch 123/2000\n",
            "6/6 [==============================] - 3s 450ms/step - loss: 0.0081 - accuracy: 1.0000\n",
            "Epoch 124/2000\n",
            "6/6 [==============================] - 3s 449ms/step - loss: 0.0078 - accuracy: 1.0000\n",
            "Epoch 125/2000\n",
            "6/6 [==============================] - 3s 449ms/step - loss: 0.0082 - accuracy: 0.9983\n",
            "Epoch 126/2000\n",
            "6/6 [==============================] - 3s 451ms/step - loss: 0.0073 - accuracy: 0.9967\n",
            "Epoch 127/2000\n",
            "6/6 [==============================] - 3s 450ms/step - loss: 0.0046 - accuracy: 1.0000\n",
            "Epoch 128/2000\n",
            "6/6 [==============================] - 3s 449ms/step - loss: 0.0036 - accuracy: 1.0000\n",
            "Epoch 129/2000\n",
            "6/6 [==============================] - 3s 448ms/step - loss: 0.0041 - accuracy: 1.0000\n",
            "Epoch 130/2000\n",
            "6/6 [==============================] - 3s 447ms/step - loss: 0.0363 - accuracy: 0.9883\n",
            "Epoch 131/2000\n",
            "6/6 [==============================] - 3s 449ms/step - loss: 0.0796 - accuracy: 0.9750\n",
            "Epoch 132/2000\n",
            "6/6 [==============================] - 3s 449ms/step - loss: 0.0899 - accuracy: 0.9700\n",
            "Epoch 133/2000\n",
            "6/6 [==============================] - 3s 449ms/step - loss: 0.0412 - accuracy: 0.9867\n",
            "Epoch 134/2000\n",
            "6/6 [==============================] - 3s 449ms/step - loss: 0.0416 - accuracy: 0.9933\n",
            "Epoch 135/2000\n",
            "6/6 [==============================] - 3s 449ms/step - loss: 0.0319 - accuracy: 0.9883\n",
            "Epoch 136/2000\n",
            "6/6 [==============================] - 3s 450ms/step - loss: 0.0253 - accuracy: 0.9933\n",
            "Epoch 137/2000\n",
            "6/6 [==============================] - 3s 449ms/step - loss: 0.0440 - accuracy: 0.9900\n",
            "Epoch 138/2000\n",
            "6/6 [==============================] - 3s 450ms/step - loss: 0.0182 - accuracy: 0.9967\n",
            "Epoch 139/2000\n",
            "6/6 [==============================] - 3s 448ms/step - loss: 0.0121 - accuracy: 0.9967\n",
            "Epoch 140/2000\n",
            "6/6 [==============================] - 3s 450ms/step - loss: 0.0265 - accuracy: 0.9933\n",
            "Epoch 141/2000\n",
            "6/6 [==============================] - 3s 449ms/step - loss: 0.0207 - accuracy: 0.9950\n",
            "Epoch 142/2000\n",
            "6/6 [==============================] - 3s 450ms/step - loss: 0.0226 - accuracy: 0.9950\n",
            "Epoch 143/2000\n",
            "6/6 [==============================] - 3s 449ms/step - loss: 0.0138 - accuracy: 0.9983\n",
            "Epoch 144/2000\n",
            "6/6 [==============================] - 3s 451ms/step - loss: 0.0162 - accuracy: 0.9950\n",
            "Epoch 145/2000\n",
            "6/6 [==============================] - 3s 446ms/step - loss: 0.0122 - accuracy: 0.9983\n",
            "Epoch 146/2000\n",
            "6/6 [==============================] - 3s 449ms/step - loss: 0.0055 - accuracy: 1.0000\n",
            "Epoch 147/2000\n",
            "6/6 [==============================] - 3s 450ms/step - loss: 0.0101 - accuracy: 0.9983\n",
            "Epoch 148/2000\n",
            "6/6 [==============================] - 3s 449ms/step - loss: 0.0228 - accuracy: 0.9950\n",
            "Epoch 149/2000\n",
            "6/6 [==============================] - 3s 449ms/step - loss: 0.0501 - accuracy: 0.9800\n",
            "Epoch 150/2000\n",
            "6/6 [==============================] - 3s 448ms/step - loss: 0.0477 - accuracy: 0.9817\n",
            "Epoch 151/2000\n",
            "6/6 [==============================] - 3s 448ms/step - loss: 0.0175 - accuracy: 0.9967\n",
            "Epoch 152/2000\n",
            "6/6 [==============================] - 3s 448ms/step - loss: 0.0214 - accuracy: 0.9950\n",
            "Epoch 153/2000\n",
            "6/6 [==============================] - 3s 448ms/step - loss: 0.0122 - accuracy: 0.9983\n",
            "Epoch 154/2000\n",
            "6/6 [==============================] - 3s 451ms/step - loss: 0.0181 - accuracy: 0.9950\n",
            "Epoch 155/2000\n",
            "6/6 [==============================] - 3s 450ms/step - loss: 0.0136 - accuracy: 0.9967\n",
            "Epoch 156/2000\n",
            "6/6 [==============================] - 3s 452ms/step - loss: 0.0127 - accuracy: 1.0000\n",
            "Epoch 157/2000\n",
            "6/6 [==============================] - 3s 451ms/step - loss: 0.0084 - accuracy: 0.9983\n",
            "Epoch 158/2000\n",
            "6/6 [==============================] - 3s 449ms/step - loss: 0.0078 - accuracy: 0.9983\n",
            "Epoch 159/2000\n",
            "6/6 [==============================] - 3s 449ms/step - loss: 0.0154 - accuracy: 0.9967\n",
            "Epoch 160/2000\n",
            "1/6 [====>.........................] - ETA: 2s - loss: 0.0059 - accuracy: 1.0000"
          ]
        },
        {
          "output_type": "error",
          "ename": "KeyboardInterrupt",
          "evalue": "ignored",
          "traceback": [
            "\u001b[0;31m---------------------------------------------------------------------------\u001b[0m",
            "\u001b[0;31mKeyboardInterrupt\u001b[0m                         Traceback (most recent call last)",
            "\u001b[0;32m<ipython-input-37-8da60ef7dae4>\u001b[0m in \u001b[0;36m<module>\u001b[0;34m()\u001b[0m\n\u001b[1;32m      5\u001b[0m \u001b[0;32mwith\u001b[0m \u001b[0mstrategy\u001b[0m\u001b[0;34m.\u001b[0m\u001b[0mscope\u001b[0m\u001b[0;34m(\u001b[0m\u001b[0;34m)\u001b[0m\u001b[0;34m:\u001b[0m\u001b[0;34m\u001b[0m\u001b[0;34m\u001b[0m\u001b[0m\n\u001b[1;32m      6\u001b[0m   \u001b[0mmodel\u001b[0m \u001b[0;34m=\u001b[0m \u001b[0mcreate_model\u001b[0m\u001b[0;34m(\u001b[0m\u001b[0;34m)\u001b[0m\u001b[0;34m\u001b[0m\u001b[0;34m\u001b[0m\u001b[0m\n\u001b[0;32m----> 7\u001b[0;31m   \u001b[0mhistory\u001b[0m \u001b[0;34m=\u001b[0m \u001b[0mmodel\u001b[0m\u001b[0;34m.\u001b[0m\u001b[0mfit\u001b[0m\u001b[0;34m(\u001b[0m\u001b[0mx_train\u001b[0m\u001b[0;34m,\u001b[0m \u001b[0my_train\u001b[0m\u001b[0;34m,\u001b[0m \u001b[0mepochs\u001b[0m\u001b[0;34m=\u001b[0m\u001b[0;36m2000\u001b[0m\u001b[0;34m,\u001b[0m \u001b[0mbatch_size\u001b[0m\u001b[0;34m=\u001b[0m\u001b[0;36m100\u001b[0m\u001b[0;34m,\u001b[0m \u001b[0mverbose\u001b[0m\u001b[0;34m=\u001b[0m\u001b[0;32mTrue\u001b[0m\u001b[0;34m)\u001b[0m\u001b[0;34m\u001b[0m\u001b[0;34m\u001b[0m\u001b[0m\n\u001b[0m\u001b[1;32m      8\u001b[0m   \u001b[0mmodel\u001b[0m\u001b[0;34m.\u001b[0m\u001b[0msave\u001b[0m\u001b[0;34m(\u001b[0m\u001b[0;34m'/content/gdrive/My Drive/Fition/colab1.h5'\u001b[0m\u001b[0;34m)\u001b[0m\u001b[0;34m\u001b[0m\u001b[0;34m\u001b[0m\u001b[0m\n",
            "\u001b[0;32m/usr/local/lib/python3.7/dist-packages/keras/utils/traceback_utils.py\u001b[0m in \u001b[0;36merror_handler\u001b[0;34m(*args, **kwargs)\u001b[0m\n\u001b[1;32m     62\u001b[0m     \u001b[0mfiltered_tb\u001b[0m \u001b[0;34m=\u001b[0m \u001b[0;32mNone\u001b[0m\u001b[0;34m\u001b[0m\u001b[0;34m\u001b[0m\u001b[0m\n\u001b[1;32m     63\u001b[0m     \u001b[0;32mtry\u001b[0m\u001b[0;34m:\u001b[0m\u001b[0;34m\u001b[0m\u001b[0;34m\u001b[0m\u001b[0m\n\u001b[0;32m---> 64\u001b[0;31m       \u001b[0;32mreturn\u001b[0m \u001b[0mfn\u001b[0m\u001b[0;34m(\u001b[0m\u001b[0;34m*\u001b[0m\u001b[0margs\u001b[0m\u001b[0;34m,\u001b[0m \u001b[0;34m**\u001b[0m\u001b[0mkwargs\u001b[0m\u001b[0;34m)\u001b[0m\u001b[0;34m\u001b[0m\u001b[0;34m\u001b[0m\u001b[0m\n\u001b[0m\u001b[1;32m     65\u001b[0m     \u001b[0;32mexcept\u001b[0m \u001b[0mException\u001b[0m \u001b[0;32mas\u001b[0m \u001b[0me\u001b[0m\u001b[0;34m:\u001b[0m  \u001b[0;31m# pylint: disable=broad-except\u001b[0m\u001b[0;34m\u001b[0m\u001b[0;34m\u001b[0m\u001b[0m\n\u001b[1;32m     66\u001b[0m       \u001b[0mfiltered_tb\u001b[0m \u001b[0;34m=\u001b[0m \u001b[0m_process_traceback_frames\u001b[0m\u001b[0;34m(\u001b[0m\u001b[0me\u001b[0m\u001b[0;34m.\u001b[0m\u001b[0m__traceback__\u001b[0m\u001b[0;34m)\u001b[0m\u001b[0;34m\u001b[0m\u001b[0;34m\u001b[0m\u001b[0m\n",
            "\u001b[0;32m/usr/local/lib/python3.7/dist-packages/keras/engine/training.py\u001b[0m in \u001b[0;36mfit\u001b[0;34m(self, x, y, batch_size, epochs, verbose, callbacks, validation_split, validation_data, shuffle, class_weight, sample_weight, initial_epoch, steps_per_epoch, validation_steps, validation_batch_size, validation_freq, max_queue_size, workers, use_multiprocessing)\u001b[0m\n\u001b[1;32m   1387\u001b[0m               \u001b[0mlogs\u001b[0m \u001b[0;34m=\u001b[0m \u001b[0mtmp_logs\u001b[0m  \u001b[0;31m# No error, now safe to assign to logs.\u001b[0m\u001b[0;34m\u001b[0m\u001b[0;34m\u001b[0m\u001b[0m\n\u001b[1;32m   1388\u001b[0m               \u001b[0mend_step\u001b[0m \u001b[0;34m=\u001b[0m \u001b[0mstep\u001b[0m \u001b[0;34m+\u001b[0m \u001b[0mdata_handler\u001b[0m\u001b[0;34m.\u001b[0m\u001b[0mstep_increment\u001b[0m\u001b[0;34m\u001b[0m\u001b[0;34m\u001b[0m\u001b[0m\n\u001b[0;32m-> 1389\u001b[0;31m               \u001b[0mcallbacks\u001b[0m\u001b[0;34m.\u001b[0m\u001b[0mon_train_batch_end\u001b[0m\u001b[0;34m(\u001b[0m\u001b[0mend_step\u001b[0m\u001b[0;34m,\u001b[0m \u001b[0mlogs\u001b[0m\u001b[0;34m)\u001b[0m\u001b[0;34m\u001b[0m\u001b[0;34m\u001b[0m\u001b[0m\n\u001b[0m\u001b[1;32m   1390\u001b[0m               \u001b[0;32mif\u001b[0m \u001b[0mself\u001b[0m\u001b[0;34m.\u001b[0m\u001b[0mstop_training\u001b[0m\u001b[0;34m:\u001b[0m\u001b[0;34m\u001b[0m\u001b[0;34m\u001b[0m\u001b[0m\n\u001b[1;32m   1391\u001b[0m                 \u001b[0;32mbreak\u001b[0m\u001b[0;34m\u001b[0m\u001b[0;34m\u001b[0m\u001b[0m\n",
            "\u001b[0;32m/usr/local/lib/python3.7/dist-packages/keras/callbacks.py\u001b[0m in \u001b[0;36mon_train_batch_end\u001b[0;34m(self, batch, logs)\u001b[0m\n\u001b[1;32m    436\u001b[0m     \"\"\"\n\u001b[1;32m    437\u001b[0m     \u001b[0;32mif\u001b[0m \u001b[0mself\u001b[0m\u001b[0;34m.\u001b[0m\u001b[0m_should_call_train_batch_hooks\u001b[0m\u001b[0;34m:\u001b[0m\u001b[0;34m\u001b[0m\u001b[0;34m\u001b[0m\u001b[0m\n\u001b[0;32m--> 438\u001b[0;31m       \u001b[0mself\u001b[0m\u001b[0;34m.\u001b[0m\u001b[0m_call_batch_hook\u001b[0m\u001b[0;34m(\u001b[0m\u001b[0mModeKeys\u001b[0m\u001b[0;34m.\u001b[0m\u001b[0mTRAIN\u001b[0m\u001b[0;34m,\u001b[0m \u001b[0;34m'end'\u001b[0m\u001b[0;34m,\u001b[0m \u001b[0mbatch\u001b[0m\u001b[0;34m,\u001b[0m \u001b[0mlogs\u001b[0m\u001b[0;34m=\u001b[0m\u001b[0mlogs\u001b[0m\u001b[0;34m)\u001b[0m\u001b[0;34m\u001b[0m\u001b[0;34m\u001b[0m\u001b[0m\n\u001b[0m\u001b[1;32m    439\u001b[0m \u001b[0;34m\u001b[0m\u001b[0m\n\u001b[1;32m    440\u001b[0m   \u001b[0;32mdef\u001b[0m \u001b[0mon_test_batch_begin\u001b[0m\u001b[0;34m(\u001b[0m\u001b[0mself\u001b[0m\u001b[0;34m,\u001b[0m \u001b[0mbatch\u001b[0m\u001b[0;34m,\u001b[0m \u001b[0mlogs\u001b[0m\u001b[0;34m=\u001b[0m\u001b[0;32mNone\u001b[0m\u001b[0;34m)\u001b[0m\u001b[0;34m:\u001b[0m\u001b[0;34m\u001b[0m\u001b[0;34m\u001b[0m\u001b[0m\n",
            "\u001b[0;32m/usr/local/lib/python3.7/dist-packages/keras/callbacks.py\u001b[0m in \u001b[0;36m_call_batch_hook\u001b[0;34m(self, mode, hook, batch, logs)\u001b[0m\n\u001b[1;32m    295\u001b[0m       \u001b[0mself\u001b[0m\u001b[0;34m.\u001b[0m\u001b[0m_call_batch_begin_hook\u001b[0m\u001b[0;34m(\u001b[0m\u001b[0mmode\u001b[0m\u001b[0;34m,\u001b[0m \u001b[0mbatch\u001b[0m\u001b[0;34m,\u001b[0m \u001b[0mlogs\u001b[0m\u001b[0;34m)\u001b[0m\u001b[0;34m\u001b[0m\u001b[0;34m\u001b[0m\u001b[0m\n\u001b[1;32m    296\u001b[0m     \u001b[0;32melif\u001b[0m \u001b[0mhook\u001b[0m \u001b[0;34m==\u001b[0m \u001b[0;34m'end'\u001b[0m\u001b[0;34m:\u001b[0m\u001b[0;34m\u001b[0m\u001b[0;34m\u001b[0m\u001b[0m\n\u001b[0;32m--> 297\u001b[0;31m       \u001b[0mself\u001b[0m\u001b[0;34m.\u001b[0m\u001b[0m_call_batch_end_hook\u001b[0m\u001b[0;34m(\u001b[0m\u001b[0mmode\u001b[0m\u001b[0;34m,\u001b[0m \u001b[0mbatch\u001b[0m\u001b[0;34m,\u001b[0m \u001b[0mlogs\u001b[0m\u001b[0;34m)\u001b[0m\u001b[0;34m\u001b[0m\u001b[0;34m\u001b[0m\u001b[0m\n\u001b[0m\u001b[1;32m    298\u001b[0m     \u001b[0;32melse\u001b[0m\u001b[0;34m:\u001b[0m\u001b[0;34m\u001b[0m\u001b[0;34m\u001b[0m\u001b[0m\n\u001b[1;32m    299\u001b[0m       raise ValueError(\n",
            "\u001b[0;32m/usr/local/lib/python3.7/dist-packages/keras/callbacks.py\u001b[0m in \u001b[0;36m_call_batch_end_hook\u001b[0;34m(self, mode, batch, logs)\u001b[0m\n\u001b[1;32m    316\u001b[0m       \u001b[0mself\u001b[0m\u001b[0;34m.\u001b[0m\u001b[0m_batch_times\u001b[0m\u001b[0;34m.\u001b[0m\u001b[0mappend\u001b[0m\u001b[0;34m(\u001b[0m\u001b[0mbatch_time\u001b[0m\u001b[0;34m)\u001b[0m\u001b[0;34m\u001b[0m\u001b[0;34m\u001b[0m\u001b[0m\n\u001b[1;32m    317\u001b[0m \u001b[0;34m\u001b[0m\u001b[0m\n\u001b[0;32m--> 318\u001b[0;31m     \u001b[0mself\u001b[0m\u001b[0;34m.\u001b[0m\u001b[0m_call_batch_hook_helper\u001b[0m\u001b[0;34m(\u001b[0m\u001b[0mhook_name\u001b[0m\u001b[0;34m,\u001b[0m \u001b[0mbatch\u001b[0m\u001b[0;34m,\u001b[0m \u001b[0mlogs\u001b[0m\u001b[0;34m)\u001b[0m\u001b[0;34m\u001b[0m\u001b[0;34m\u001b[0m\u001b[0m\n\u001b[0m\u001b[1;32m    319\u001b[0m \u001b[0;34m\u001b[0m\u001b[0m\n\u001b[1;32m    320\u001b[0m     \u001b[0;32mif\u001b[0m \u001b[0mlen\u001b[0m\u001b[0;34m(\u001b[0m\u001b[0mself\u001b[0m\u001b[0;34m.\u001b[0m\u001b[0m_batch_times\u001b[0m\u001b[0;34m)\u001b[0m \u001b[0;34m>=\u001b[0m \u001b[0mself\u001b[0m\u001b[0;34m.\u001b[0m\u001b[0m_num_batches_for_timing_check\u001b[0m\u001b[0;34m:\u001b[0m\u001b[0;34m\u001b[0m\u001b[0;34m\u001b[0m\u001b[0m\n",
            "\u001b[0;32m/usr/local/lib/python3.7/dist-packages/keras/callbacks.py\u001b[0m in \u001b[0;36m_call_batch_hook_helper\u001b[0;34m(self, hook_name, batch, logs)\u001b[0m\n\u001b[1;32m    354\u001b[0m     \u001b[0;32mfor\u001b[0m \u001b[0mcallback\u001b[0m \u001b[0;32min\u001b[0m \u001b[0mself\u001b[0m\u001b[0;34m.\u001b[0m\u001b[0mcallbacks\u001b[0m\u001b[0;34m:\u001b[0m\u001b[0;34m\u001b[0m\u001b[0;34m\u001b[0m\u001b[0m\n\u001b[1;32m    355\u001b[0m       \u001b[0mhook\u001b[0m \u001b[0;34m=\u001b[0m \u001b[0mgetattr\u001b[0m\u001b[0;34m(\u001b[0m\u001b[0mcallback\u001b[0m\u001b[0;34m,\u001b[0m \u001b[0mhook_name\u001b[0m\u001b[0;34m)\u001b[0m\u001b[0;34m\u001b[0m\u001b[0;34m\u001b[0m\u001b[0m\n\u001b[0;32m--> 356\u001b[0;31m       \u001b[0mhook\u001b[0m\u001b[0;34m(\u001b[0m\u001b[0mbatch\u001b[0m\u001b[0;34m,\u001b[0m \u001b[0mlogs\u001b[0m\u001b[0;34m)\u001b[0m\u001b[0;34m\u001b[0m\u001b[0;34m\u001b[0m\u001b[0m\n\u001b[0m\u001b[1;32m    357\u001b[0m \u001b[0;34m\u001b[0m\u001b[0m\n\u001b[1;32m    358\u001b[0m     \u001b[0;32mif\u001b[0m \u001b[0mself\u001b[0m\u001b[0;34m.\u001b[0m\u001b[0m_check_timing\u001b[0m\u001b[0;34m:\u001b[0m\u001b[0;34m\u001b[0m\u001b[0;34m\u001b[0m\u001b[0m\n",
            "\u001b[0;32m/usr/local/lib/python3.7/dist-packages/keras/callbacks.py\u001b[0m in \u001b[0;36mon_train_batch_end\u001b[0;34m(self, batch, logs)\u001b[0m\n\u001b[1;32m   1032\u001b[0m \u001b[0;34m\u001b[0m\u001b[0m\n\u001b[1;32m   1033\u001b[0m   \u001b[0;32mdef\u001b[0m \u001b[0mon_train_batch_end\u001b[0m\u001b[0;34m(\u001b[0m\u001b[0mself\u001b[0m\u001b[0;34m,\u001b[0m \u001b[0mbatch\u001b[0m\u001b[0;34m,\u001b[0m \u001b[0mlogs\u001b[0m\u001b[0;34m=\u001b[0m\u001b[0;32mNone\u001b[0m\u001b[0;34m)\u001b[0m\u001b[0;34m:\u001b[0m\u001b[0;34m\u001b[0m\u001b[0;34m\u001b[0m\u001b[0m\n\u001b[0;32m-> 1034\u001b[0;31m     \u001b[0mself\u001b[0m\u001b[0;34m.\u001b[0m\u001b[0m_batch_update_progbar\u001b[0m\u001b[0;34m(\u001b[0m\u001b[0mbatch\u001b[0m\u001b[0;34m,\u001b[0m \u001b[0mlogs\u001b[0m\u001b[0;34m)\u001b[0m\u001b[0;34m\u001b[0m\u001b[0;34m\u001b[0m\u001b[0m\n\u001b[0m\u001b[1;32m   1035\u001b[0m \u001b[0;34m\u001b[0m\u001b[0m\n\u001b[1;32m   1036\u001b[0m   \u001b[0;32mdef\u001b[0m \u001b[0mon_test_batch_end\u001b[0m\u001b[0;34m(\u001b[0m\u001b[0mself\u001b[0m\u001b[0;34m,\u001b[0m \u001b[0mbatch\u001b[0m\u001b[0;34m,\u001b[0m \u001b[0mlogs\u001b[0m\u001b[0;34m=\u001b[0m\u001b[0;32mNone\u001b[0m\u001b[0;34m)\u001b[0m\u001b[0;34m:\u001b[0m\u001b[0;34m\u001b[0m\u001b[0;34m\u001b[0m\u001b[0m\n",
            "\u001b[0;32m/usr/local/lib/python3.7/dist-packages/keras/callbacks.py\u001b[0m in \u001b[0;36m_batch_update_progbar\u001b[0;34m(self, batch, logs)\u001b[0m\n\u001b[1;32m   1104\u001b[0m     \u001b[0;32mif\u001b[0m \u001b[0mself\u001b[0m\u001b[0;34m.\u001b[0m\u001b[0mverbose\u001b[0m \u001b[0;34m==\u001b[0m \u001b[0;36m1\u001b[0m\u001b[0;34m:\u001b[0m\u001b[0;34m\u001b[0m\u001b[0;34m\u001b[0m\u001b[0m\n\u001b[1;32m   1105\u001b[0m       \u001b[0;31m# Only block async when verbose = 1.\u001b[0m\u001b[0;34m\u001b[0m\u001b[0;34m\u001b[0m\u001b[0;34m\u001b[0m\u001b[0m\n\u001b[0;32m-> 1106\u001b[0;31m       \u001b[0mlogs\u001b[0m \u001b[0;34m=\u001b[0m \u001b[0mtf_utils\u001b[0m\u001b[0;34m.\u001b[0m\u001b[0msync_to_numpy_or_python_type\u001b[0m\u001b[0;34m(\u001b[0m\u001b[0mlogs\u001b[0m\u001b[0;34m)\u001b[0m\u001b[0;34m\u001b[0m\u001b[0;34m\u001b[0m\u001b[0m\n\u001b[0m\u001b[1;32m   1107\u001b[0m       \u001b[0mself\u001b[0m\u001b[0;34m.\u001b[0m\u001b[0mprogbar\u001b[0m\u001b[0;34m.\u001b[0m\u001b[0mupdate\u001b[0m\u001b[0;34m(\u001b[0m\u001b[0mself\u001b[0m\u001b[0;34m.\u001b[0m\u001b[0mseen\u001b[0m\u001b[0;34m,\u001b[0m \u001b[0mlist\u001b[0m\u001b[0;34m(\u001b[0m\u001b[0mlogs\u001b[0m\u001b[0;34m.\u001b[0m\u001b[0mitems\u001b[0m\u001b[0;34m(\u001b[0m\u001b[0;34m)\u001b[0m\u001b[0;34m)\u001b[0m\u001b[0;34m,\u001b[0m \u001b[0mfinalize\u001b[0m\u001b[0;34m=\u001b[0m\u001b[0;32mFalse\u001b[0m\u001b[0;34m)\u001b[0m\u001b[0;34m\u001b[0m\u001b[0;34m\u001b[0m\u001b[0m\n\u001b[1;32m   1108\u001b[0m \u001b[0;34m\u001b[0m\u001b[0m\n",
            "\u001b[0;32m/usr/local/lib/python3.7/dist-packages/keras/utils/tf_utils.py\u001b[0m in \u001b[0;36msync_to_numpy_or_python_type\u001b[0;34m(tensors)\u001b[0m\n\u001b[1;32m    561\u001b[0m     \u001b[0;32mreturn\u001b[0m \u001b[0mt\u001b[0m\u001b[0;34m.\u001b[0m\u001b[0mitem\u001b[0m\u001b[0;34m(\u001b[0m\u001b[0;34m)\u001b[0m \u001b[0;32mif\u001b[0m \u001b[0mnp\u001b[0m\u001b[0;34m.\u001b[0m\u001b[0mndim\u001b[0m\u001b[0;34m(\u001b[0m\u001b[0mt\u001b[0m\u001b[0;34m)\u001b[0m \u001b[0;34m==\u001b[0m \u001b[0;36m0\u001b[0m \u001b[0;32melse\u001b[0m \u001b[0mt\u001b[0m\u001b[0;34m\u001b[0m\u001b[0;34m\u001b[0m\u001b[0m\n\u001b[1;32m    562\u001b[0m \u001b[0;34m\u001b[0m\u001b[0m\n\u001b[0;32m--> 563\u001b[0;31m   \u001b[0;32mreturn\u001b[0m \u001b[0mtf\u001b[0m\u001b[0;34m.\u001b[0m\u001b[0mnest\u001b[0m\u001b[0;34m.\u001b[0m\u001b[0mmap_structure\u001b[0m\u001b[0;34m(\u001b[0m\u001b[0m_to_single_numpy_or_python_type\u001b[0m\u001b[0;34m,\u001b[0m \u001b[0mtensors\u001b[0m\u001b[0;34m)\u001b[0m\u001b[0;34m\u001b[0m\u001b[0;34m\u001b[0m\u001b[0m\n\u001b[0m\u001b[1;32m    564\u001b[0m \u001b[0;34m\u001b[0m\u001b[0m\n\u001b[1;32m    565\u001b[0m \u001b[0;34m\u001b[0m\u001b[0m\n",
            "\u001b[0;32m/usr/local/lib/python3.7/dist-packages/tensorflow/python/util/nest.py\u001b[0m in \u001b[0;36mmap_structure\u001b[0;34m(func, *structure, **kwargs)\u001b[0m\n\u001b[1;32m    912\u001b[0m \u001b[0;34m\u001b[0m\u001b[0m\n\u001b[1;32m    913\u001b[0m   return pack_sequence_as(\n\u001b[0;32m--> 914\u001b[0;31m       \u001b[0mstructure\u001b[0m\u001b[0;34m[\u001b[0m\u001b[0;36m0\u001b[0m\u001b[0;34m]\u001b[0m\u001b[0;34m,\u001b[0m \u001b[0;34m[\u001b[0m\u001b[0mfunc\u001b[0m\u001b[0;34m(\u001b[0m\u001b[0;34m*\u001b[0m\u001b[0mx\u001b[0m\u001b[0;34m)\u001b[0m \u001b[0;32mfor\u001b[0m \u001b[0mx\u001b[0m \u001b[0;32min\u001b[0m \u001b[0mentries\u001b[0m\u001b[0;34m]\u001b[0m\u001b[0;34m,\u001b[0m\u001b[0;34m\u001b[0m\u001b[0;34m\u001b[0m\u001b[0m\n\u001b[0m\u001b[1;32m    915\u001b[0m       expand_composites=expand_composites)\n\u001b[1;32m    916\u001b[0m \u001b[0;34m\u001b[0m\u001b[0m\n",
            "\u001b[0;32m/usr/local/lib/python3.7/dist-packages/tensorflow/python/util/nest.py\u001b[0m in \u001b[0;36m<listcomp>\u001b[0;34m(.0)\u001b[0m\n\u001b[1;32m    912\u001b[0m \u001b[0;34m\u001b[0m\u001b[0m\n\u001b[1;32m    913\u001b[0m   return pack_sequence_as(\n\u001b[0;32m--> 914\u001b[0;31m       \u001b[0mstructure\u001b[0m\u001b[0;34m[\u001b[0m\u001b[0;36m0\u001b[0m\u001b[0;34m]\u001b[0m\u001b[0;34m,\u001b[0m \u001b[0;34m[\u001b[0m\u001b[0mfunc\u001b[0m\u001b[0;34m(\u001b[0m\u001b[0;34m*\u001b[0m\u001b[0mx\u001b[0m\u001b[0;34m)\u001b[0m \u001b[0;32mfor\u001b[0m \u001b[0mx\u001b[0m \u001b[0;32min\u001b[0m \u001b[0mentries\u001b[0m\u001b[0;34m]\u001b[0m\u001b[0;34m,\u001b[0m\u001b[0;34m\u001b[0m\u001b[0;34m\u001b[0m\u001b[0m\n\u001b[0m\u001b[1;32m    915\u001b[0m       expand_composites=expand_composites)\n\u001b[1;32m    916\u001b[0m \u001b[0;34m\u001b[0m\u001b[0m\n",
            "\u001b[0;32m/usr/local/lib/python3.7/dist-packages/keras/utils/tf_utils.py\u001b[0m in \u001b[0;36m_to_single_numpy_or_python_type\u001b[0;34m(t)\u001b[0m\n\u001b[1;32m    555\u001b[0m     \u001b[0;31m# Don't turn ragged or sparse tensors to NumPy.\u001b[0m\u001b[0;34m\u001b[0m\u001b[0;34m\u001b[0m\u001b[0;34m\u001b[0m\u001b[0m\n\u001b[1;32m    556\u001b[0m     \u001b[0;32mif\u001b[0m \u001b[0misinstance\u001b[0m\u001b[0;34m(\u001b[0m\u001b[0mt\u001b[0m\u001b[0;34m,\u001b[0m \u001b[0mtf\u001b[0m\u001b[0;34m.\u001b[0m\u001b[0mTensor\u001b[0m\u001b[0;34m)\u001b[0m\u001b[0;34m:\u001b[0m\u001b[0;34m\u001b[0m\u001b[0;34m\u001b[0m\u001b[0m\n\u001b[0;32m--> 557\u001b[0;31m       \u001b[0mt\u001b[0m \u001b[0;34m=\u001b[0m \u001b[0mt\u001b[0m\u001b[0;34m.\u001b[0m\u001b[0mnumpy\u001b[0m\u001b[0;34m(\u001b[0m\u001b[0;34m)\u001b[0m\u001b[0;34m\u001b[0m\u001b[0;34m\u001b[0m\u001b[0m\n\u001b[0m\u001b[1;32m    558\u001b[0m     \u001b[0;31m# Strings, ragged and sparse tensors don't have .item(). Return them as-is.\u001b[0m\u001b[0;34m\u001b[0m\u001b[0;34m\u001b[0m\u001b[0;34m\u001b[0m\u001b[0m\n\u001b[1;32m    559\u001b[0m     \u001b[0;32mif\u001b[0m \u001b[0;32mnot\u001b[0m \u001b[0misinstance\u001b[0m\u001b[0;34m(\u001b[0m\u001b[0mt\u001b[0m\u001b[0;34m,\u001b[0m \u001b[0;34m(\u001b[0m\u001b[0mnp\u001b[0m\u001b[0;34m.\u001b[0m\u001b[0mndarray\u001b[0m\u001b[0;34m,\u001b[0m \u001b[0mnp\u001b[0m\u001b[0;34m.\u001b[0m\u001b[0mgeneric\u001b[0m\u001b[0;34m)\u001b[0m\u001b[0;34m)\u001b[0m\u001b[0;34m:\u001b[0m\u001b[0;34m\u001b[0m\u001b[0;34m\u001b[0m\u001b[0m\n",
            "\u001b[0;32m/usr/local/lib/python3.7/dist-packages/tensorflow/python/framework/ops.py\u001b[0m in \u001b[0;36mnumpy\u001b[0;34m(self)\u001b[0m\n\u001b[1;32m   1221\u001b[0m     \"\"\"\n\u001b[1;32m   1222\u001b[0m     \u001b[0;31m# TODO(slebedev): Consider avoiding a copy for non-CPU or remote tensors.\u001b[0m\u001b[0;34m\u001b[0m\u001b[0;34m\u001b[0m\u001b[0;34m\u001b[0m\u001b[0m\n\u001b[0;32m-> 1223\u001b[0;31m     \u001b[0mmaybe_arr\u001b[0m \u001b[0;34m=\u001b[0m \u001b[0mself\u001b[0m\u001b[0;34m.\u001b[0m\u001b[0m_numpy\u001b[0m\u001b[0;34m(\u001b[0m\u001b[0;34m)\u001b[0m  \u001b[0;31m# pylint: disable=protected-access\u001b[0m\u001b[0;34m\u001b[0m\u001b[0;34m\u001b[0m\u001b[0m\n\u001b[0m\u001b[1;32m   1224\u001b[0m     \u001b[0;32mreturn\u001b[0m \u001b[0mmaybe_arr\u001b[0m\u001b[0;34m.\u001b[0m\u001b[0mcopy\u001b[0m\u001b[0;34m(\u001b[0m\u001b[0;34m)\u001b[0m \u001b[0;32mif\u001b[0m \u001b[0misinstance\u001b[0m\u001b[0;34m(\u001b[0m\u001b[0mmaybe_arr\u001b[0m\u001b[0;34m,\u001b[0m \u001b[0mnp\u001b[0m\u001b[0;34m.\u001b[0m\u001b[0mndarray\u001b[0m\u001b[0;34m)\u001b[0m \u001b[0;32melse\u001b[0m \u001b[0mmaybe_arr\u001b[0m\u001b[0;34m\u001b[0m\u001b[0;34m\u001b[0m\u001b[0m\n\u001b[1;32m   1225\u001b[0m \u001b[0;34m\u001b[0m\u001b[0m\n",
            "\u001b[0;32m/usr/local/lib/python3.7/dist-packages/tensorflow/python/framework/ops.py\u001b[0m in \u001b[0;36m_numpy\u001b[0;34m(self)\u001b[0m\n\u001b[1;32m   1187\u001b[0m   \u001b[0;32mdef\u001b[0m \u001b[0m_numpy\u001b[0m\u001b[0;34m(\u001b[0m\u001b[0mself\u001b[0m\u001b[0;34m)\u001b[0m\u001b[0;34m:\u001b[0m\u001b[0;34m\u001b[0m\u001b[0;34m\u001b[0m\u001b[0m\n\u001b[1;32m   1188\u001b[0m     \u001b[0;32mtry\u001b[0m\u001b[0;34m:\u001b[0m\u001b[0;34m\u001b[0m\u001b[0;34m\u001b[0m\u001b[0m\n\u001b[0;32m-> 1189\u001b[0;31m       \u001b[0;32mreturn\u001b[0m \u001b[0mself\u001b[0m\u001b[0;34m.\u001b[0m\u001b[0m_numpy_internal\u001b[0m\u001b[0;34m(\u001b[0m\u001b[0;34m)\u001b[0m\u001b[0;34m\u001b[0m\u001b[0;34m\u001b[0m\u001b[0m\n\u001b[0m\u001b[1;32m   1190\u001b[0m     \u001b[0;32mexcept\u001b[0m \u001b[0mcore\u001b[0m\u001b[0;34m.\u001b[0m\u001b[0m_NotOkStatusException\u001b[0m \u001b[0;32mas\u001b[0m \u001b[0me\u001b[0m\u001b[0;34m:\u001b[0m  \u001b[0;31m# pylint: disable=protected-access\u001b[0m\u001b[0;34m\u001b[0m\u001b[0;34m\u001b[0m\u001b[0m\n\u001b[1;32m   1191\u001b[0m       \u001b[0;32mraise\u001b[0m \u001b[0mcore\u001b[0m\u001b[0;34m.\u001b[0m\u001b[0m_status_to_exception\u001b[0m\u001b[0;34m(\u001b[0m\u001b[0me\u001b[0m\u001b[0;34m)\u001b[0m \u001b[0;32mfrom\u001b[0m \u001b[0;32mNone\u001b[0m  \u001b[0;31m# pylint: disable=protected-access\u001b[0m\u001b[0;34m\u001b[0m\u001b[0;34m\u001b[0m\u001b[0m\n",
            "\u001b[0;31mKeyboardInterrupt\u001b[0m: "
          ]
        }
      ],
      "source": [
        "# Clear clutter from previous session graphs.\n",
        "tf.keras.backend.clear_session()\n",
        "\n",
        "#train with TPU    \n",
        "with strategy.scope():  \n",
        "  model = create_model()\n",
        "  history = model.fit(x_train, y_train, epochs=2000, batch_size=100, verbose=True)\n",
        "  model.save('/content/gdrive/My Drive/Fition/colab1.h5')"
      ],
      "id": "af5fb07f-5624-4643-86a6-7476dc088fd9"
    },
    {
      "cell_type": "markdown",
      "source": [
        "Evaluating Model"
      ],
      "metadata": {
        "id": "g6qBrepZV_0Z"
      },
      "id": "g6qBrepZV_0Z"
    },
    {
      "cell_type": "code",
      "source": [
        "model.evaluate(x_test, y_test, batch_size=100)"
      ],
      "metadata": {
        "id": "ZjqB16JOV_Hj"
      },
      "id": "ZjqB16JOV_Hj",
      "execution_count": null,
      "outputs": []
    },
    {
      "cell_type": "code",
      "execution_count": null,
      "metadata": {
        "id": "7b5aa4e7-71d7-4952-8ebb-8309a49efb96"
      },
      "outputs": [],
      "source": [
        "pyplot.plot(history.history['loss'])\n",
        "# pyplot.plot(history.history['val_loss'])\n",
        "# pyplot.title('model train vs validation loss')\n",
        "pyplot.ylabel('loss')\n",
        "pyplot.xlabel('epoch')\n",
        "# pyplot.legend(['train', 'validation'], loc='upper right')\n",
        "pyplot.show()"
      ],
      "id": "7b5aa4e7-71d7-4952-8ebb-8309a49efb96"
    },
    {
      "cell_type": "markdown",
      "source": [
        "Get predicitons on test data"
      ],
      "metadata": {
        "id": "ZdhTjzZPWV5v"
      },
      "id": "ZdhTjzZPWV5v"
    },
    {
      "cell_type": "code",
      "execution_count": null,
      "metadata": {
        "id": "d8c6310a"
      },
      "outputs": [],
      "source": [
        "y_pred = model.predict(x_test)\n",
        "y_pred_classes = [np.argmax(element) for element in y_pred]"
      ],
      "id": "d8c6310a"
    },
    {
      "cell_type": "code",
      "execution_count": null,
      "metadata": {
        "id": "eae6b124"
      },
      "outputs": [],
      "source": [
        "y_test = np.argmax(y_test, axis=None)\n"
      ],
      "id": "eae6b124"
    },
    {
      "cell_type": "code",
      "execution_count": null,
      "metadata": {
        "id": "655acaec"
      },
      "outputs": [],
      "source": [
        "print(\"Classification Report: \\n\", classification_report(y_test, y_pred_classes))"
      ],
      "id": "655acaec"
    },
    {
      "cell_type": "code",
      "execution_count": null,
      "metadata": {
        "id": "612fc356",
        "scrolled": true
      },
      "outputs": [],
      "source": [
        "cm = confusion_matrix(y_test, y_pred_classes)\n",
        "disp = ConfusionMatrixDisplay(confusion_matrix=cm, display_labels=[\"nm\",\"sitdown\", \"standup\",\"walking\",\"falling\",\"getintobed\"])"
      ],
      "id": "612fc356"
    },
    {
      "cell_type": "code",
      "execution_count": null,
      "metadata": {
        "id": "f8e6d778"
      },
      "outputs": [],
      "source": [
        "disp.plot(cmap = \"Blues\")\n",
        "plt.show()"
      ],
      "id": "f8e6d778"
    },
    {
      "cell_type": "code",
      "source": [
        ""
      ],
      "metadata": {
        "id": "abF4axW-Wn6r"
      },
      "id": "abF4axW-Wn6r",
      "execution_count": null,
      "outputs": []
    }
  ],
  "metadata": {
    "accelerator": "TPU",
    "colab": {
      "name": "Fition base",
      "provenance": [],
      "collapsed_sections": [],
      "toc_visible": true,
      "include_colab_link": true
    },
    "environment": {
      "kernel": "python3",
      "name": "tf2-gpu.2-6.m87",
      "type": "gcloud",
      "uri": "gcr.io/deeplearning-platform-release/tf2-gpu.2-6:m87"
    },
    "kernelspec": {
      "display_name": "Python 3 (ipykernel)",
      "language": "python",
      "name": "python3"
    },
    "language_info": {
      "codemirror_mode": {
        "name": "ipython",
        "version": 3
      },
      "file_extension": ".py",
      "mimetype": "text/x-python",
      "name": "python",
      "nbconvert_exporter": "python",
      "pygments_lexer": "ipython3",
      "version": "3.9.7"
    }
  },
  "nbformat": 4,
  "nbformat_minor": 5
}