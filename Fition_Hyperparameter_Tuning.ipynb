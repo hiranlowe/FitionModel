{
  "cells": [
    {
      "cell_type": "markdown",
      "metadata": {
        "id": "view-in-github",
        "colab_type": "text"
      },
      "source": [
        "<a href=\"https://colab.research.google.com/github/hiranlowe/FitionModel/blob/main/Fition_Hyperparameter_Tuning.ipynb\" target=\"_parent\"><img src=\"https://colab.research.google.com/assets/colab-badge.svg\" alt=\"Open In Colab\"/></a>"
      ]
    },
    {
      "cell_type": "markdown",
      "source": [
        "Importing Libraries\n",
        "\n",
        "\n"
      ],
      "metadata": {
        "id": "QclDr1Q_S7ks"
      },
      "id": "QclDr1Q_S7ks"
    },
    {
      "cell_type": "code",
      "execution_count": null,
      "metadata": {
        "id": "d49b1cb3"
      },
      "outputs": [],
      "source": [
        "\n",
        "import os\n",
        "from google.colab import drive\n",
        "\n",
        "import tensorflow as tf\n",
        "\n",
        "import matplotlib.pyplot as plt\n",
        "import numpy as np\n",
        "import seaborn as sns\n",
        "\n",
        "from numpy import mean\n",
        "from numpy import std\n",
        "from numpy import dstack\n",
        "from pandas import read_csv\n",
        "\n",
        "from tensorflow.keras import layers, models\n",
        "from tensorflow.keras.models import Sequential\n",
        "from tensorflow.keras.utils import to_categorical\n",
        "from tensorflow.keras.layers import BatchNormalization\n",
        "from tensorflow.keras.layers import Activation, Bidirectional, Conv1D, MaxPool1D, BatchNormalization, Dense, LSTM\n",
        "\n",
        "from sklearn.metrics import confusion_matrix, ConfusionMatrixDisplay, classification_report"
      ],
      "id": "d49b1cb3"
    },
    {
      "cell_type": "markdown",
      "source": [
        "Initialize TPU"
      ],
      "metadata": {
        "id": "YqDgThxX2USM"
      },
      "id": "YqDgThxX2USM"
    },
    {
      "cell_type": "code",
      "source": [
        "# Function to get hardware strategy\n",
        "def get_hardware_strategy():\n",
        "    try:\n",
        "        # TPU detection. No parameters necessary if TPU_NAME environment variable is\n",
        "        # set: this is always the case on Kaggle.\n",
        "        tpu = tf.distribute.cluster_resolver.TPUClusterResolver()\n",
        "        print('Running on TPU ', tpu.master())\n",
        "    except ValueError:\n",
        "        tpu = None\n",
        "\n",
        "    if tpu:\n",
        "        tf.config.experimental_connect_to_cluster(tpu)\n",
        "        tf.tpu.experimental.initialize_tpu_system(tpu)\n",
        "        strategy = tf.distribute.experimental.TPUStrategy(tpu)\n",
        "        tf.config.optimizer.set_jit(True)\n",
        "    else:\n",
        "        # Default distribution strategy in Tensorflow. Works on CPU and single GPU.\n",
        "        strategy = tf.distribute.get_strategy()\n",
        "\n",
        "    return tpu, strategy\n",
        "\n",
        "tpu, strategy = get_hardware_strategy()\n"
      ],
      "metadata": {
        "colab": {
          "base_uri": "https://localhost:8080/"
        },
        "id": "Ljb_0jk2g8iA",
        "outputId": "eadd029c-78a6-4ef4-8505-06729d4949f8"
      },
      "id": "Ljb_0jk2g8iA",
      "execution_count": null,
      "outputs": [
        {
          "output_type": "stream",
          "name": "stdout",
          "text": [
            "Running on TPU  grpc://10.69.168.146:8470\n",
            "INFO:tensorflow:Deallocate tpu buffers before initializing tpu system.\n"
          ]
        },
        {
          "output_type": "stream",
          "name": "stderr",
          "text": [
            "INFO:tensorflow:Deallocate tpu buffers before initializing tpu system.\n"
          ]
        },
        {
          "output_type": "stream",
          "name": "stdout",
          "text": [
            "INFO:tensorflow:Initializing the TPU system: grpc://10.69.168.146:8470\n"
          ]
        },
        {
          "output_type": "stream",
          "name": "stderr",
          "text": [
            "INFO:tensorflow:Initializing the TPU system: grpc://10.69.168.146:8470\n"
          ]
        },
        {
          "output_type": "stream",
          "name": "stdout",
          "text": [
            "INFO:tensorflow:Finished initializing TPU system.\n"
          ]
        },
        {
          "output_type": "stream",
          "name": "stderr",
          "text": [
            "INFO:tensorflow:Finished initializing TPU system.\n",
            "WARNING:absl:`tf.distribute.experimental.TPUStrategy` is deprecated, please use  the non experimental symbol `tf.distribute.TPUStrategy` instead.\n"
          ]
        },
        {
          "output_type": "stream",
          "name": "stdout",
          "text": [
            "INFO:tensorflow:Found TPU system:\n"
          ]
        },
        {
          "output_type": "stream",
          "name": "stderr",
          "text": [
            "INFO:tensorflow:Found TPU system:\n"
          ]
        },
        {
          "output_type": "stream",
          "name": "stdout",
          "text": [
            "INFO:tensorflow:*** Num TPU Cores: 8\n"
          ]
        },
        {
          "output_type": "stream",
          "name": "stderr",
          "text": [
            "INFO:tensorflow:*** Num TPU Cores: 8\n"
          ]
        },
        {
          "output_type": "stream",
          "name": "stdout",
          "text": [
            "INFO:tensorflow:*** Num TPU Workers: 1\n"
          ]
        },
        {
          "output_type": "stream",
          "name": "stderr",
          "text": [
            "INFO:tensorflow:*** Num TPU Workers: 1\n"
          ]
        },
        {
          "output_type": "stream",
          "name": "stdout",
          "text": [
            "INFO:tensorflow:*** Num TPU Cores Per Worker: 8\n"
          ]
        },
        {
          "output_type": "stream",
          "name": "stderr",
          "text": [
            "INFO:tensorflow:*** Num TPU Cores Per Worker: 8\n"
          ]
        },
        {
          "output_type": "stream",
          "name": "stdout",
          "text": [
            "INFO:tensorflow:*** Available Device: _DeviceAttributes(/job:localhost/replica:0/task:0/device:CPU:0, CPU, 0, 0)\n"
          ]
        },
        {
          "output_type": "stream",
          "name": "stderr",
          "text": [
            "INFO:tensorflow:*** Available Device: _DeviceAttributes(/job:localhost/replica:0/task:0/device:CPU:0, CPU, 0, 0)\n"
          ]
        },
        {
          "output_type": "stream",
          "name": "stdout",
          "text": [
            "INFO:tensorflow:*** Available Device: _DeviceAttributes(/job:worker/replica:0/task:0/device:CPU:0, CPU, 0, 0)\n"
          ]
        },
        {
          "output_type": "stream",
          "name": "stderr",
          "text": [
            "INFO:tensorflow:*** Available Device: _DeviceAttributes(/job:worker/replica:0/task:0/device:CPU:0, CPU, 0, 0)\n"
          ]
        },
        {
          "output_type": "stream",
          "name": "stdout",
          "text": [
            "INFO:tensorflow:*** Available Device: _DeviceAttributes(/job:worker/replica:0/task:0/device:TPU:0, TPU, 0, 0)\n"
          ]
        },
        {
          "output_type": "stream",
          "name": "stderr",
          "text": [
            "INFO:tensorflow:*** Available Device: _DeviceAttributes(/job:worker/replica:0/task:0/device:TPU:0, TPU, 0, 0)\n"
          ]
        },
        {
          "output_type": "stream",
          "name": "stdout",
          "text": [
            "INFO:tensorflow:*** Available Device: _DeviceAttributes(/job:worker/replica:0/task:0/device:TPU:1, TPU, 0, 0)\n"
          ]
        },
        {
          "output_type": "stream",
          "name": "stderr",
          "text": [
            "INFO:tensorflow:*** Available Device: _DeviceAttributes(/job:worker/replica:0/task:0/device:TPU:1, TPU, 0, 0)\n"
          ]
        },
        {
          "output_type": "stream",
          "name": "stdout",
          "text": [
            "INFO:tensorflow:*** Available Device: _DeviceAttributes(/job:worker/replica:0/task:0/device:TPU:2, TPU, 0, 0)\n"
          ]
        },
        {
          "output_type": "stream",
          "name": "stderr",
          "text": [
            "INFO:tensorflow:*** Available Device: _DeviceAttributes(/job:worker/replica:0/task:0/device:TPU:2, TPU, 0, 0)\n"
          ]
        },
        {
          "output_type": "stream",
          "name": "stdout",
          "text": [
            "INFO:tensorflow:*** Available Device: _DeviceAttributes(/job:worker/replica:0/task:0/device:TPU:3, TPU, 0, 0)\n"
          ]
        },
        {
          "output_type": "stream",
          "name": "stderr",
          "text": [
            "INFO:tensorflow:*** Available Device: _DeviceAttributes(/job:worker/replica:0/task:0/device:TPU:3, TPU, 0, 0)\n"
          ]
        },
        {
          "output_type": "stream",
          "name": "stdout",
          "text": [
            "INFO:tensorflow:*** Available Device: _DeviceAttributes(/job:worker/replica:0/task:0/device:TPU:4, TPU, 0, 0)\n"
          ]
        },
        {
          "output_type": "stream",
          "name": "stderr",
          "text": [
            "INFO:tensorflow:*** Available Device: _DeviceAttributes(/job:worker/replica:0/task:0/device:TPU:4, TPU, 0, 0)\n"
          ]
        },
        {
          "output_type": "stream",
          "name": "stdout",
          "text": [
            "INFO:tensorflow:*** Available Device: _DeviceAttributes(/job:worker/replica:0/task:0/device:TPU:5, TPU, 0, 0)\n"
          ]
        },
        {
          "output_type": "stream",
          "name": "stderr",
          "text": [
            "INFO:tensorflow:*** Available Device: _DeviceAttributes(/job:worker/replica:0/task:0/device:TPU:5, TPU, 0, 0)\n"
          ]
        },
        {
          "output_type": "stream",
          "name": "stdout",
          "text": [
            "INFO:tensorflow:*** Available Device: _DeviceAttributes(/job:worker/replica:0/task:0/device:TPU:6, TPU, 0, 0)\n"
          ]
        },
        {
          "output_type": "stream",
          "name": "stderr",
          "text": [
            "INFO:tensorflow:*** Available Device: _DeviceAttributes(/job:worker/replica:0/task:0/device:TPU:6, TPU, 0, 0)\n"
          ]
        },
        {
          "output_type": "stream",
          "name": "stdout",
          "text": [
            "INFO:tensorflow:*** Available Device: _DeviceAttributes(/job:worker/replica:0/task:0/device:TPU:7, TPU, 0, 0)\n"
          ]
        },
        {
          "output_type": "stream",
          "name": "stderr",
          "text": [
            "INFO:tensorflow:*** Available Device: _DeviceAttributes(/job:worker/replica:0/task:0/device:TPU:7, TPU, 0, 0)\n"
          ]
        },
        {
          "output_type": "stream",
          "name": "stdout",
          "text": [
            "INFO:tensorflow:*** Available Device: _DeviceAttributes(/job:worker/replica:0/task:0/device:TPU_SYSTEM:0, TPU_SYSTEM, 0, 0)\n"
          ]
        },
        {
          "output_type": "stream",
          "name": "stderr",
          "text": [
            "INFO:tensorflow:*** Available Device: _DeviceAttributes(/job:worker/replica:0/task:0/device:TPU_SYSTEM:0, TPU_SYSTEM, 0, 0)\n"
          ]
        },
        {
          "output_type": "stream",
          "name": "stdout",
          "text": [
            "INFO:tensorflow:*** Available Device: _DeviceAttributes(/job:worker/replica:0/task:0/device:XLA_CPU:0, XLA_CPU, 0, 0)\n"
          ]
        },
        {
          "output_type": "stream",
          "name": "stderr",
          "text": [
            "INFO:tensorflow:*** Available Device: _DeviceAttributes(/job:worker/replica:0/task:0/device:XLA_CPU:0, XLA_CPU, 0, 0)\n"
          ]
        }
      ]
    },
    {
      "cell_type": "markdown",
      "source": [
        "CSI packet processing function"
      ],
      "metadata": {
        "id": "IarFQgBeTv-G"
      },
      "id": "IarFQgBeTv-G"
    },
    {
      "cell_type": "code",
      "execution_count": null,
      "metadata": {
        "id": "cc080527"
      },
      "outputs": [],
      "source": [
        "def _read_csi_next(pcapfile, csi_size):\n",
        "    \"\"\"\n",
        "    Note: Designed for internal use only.\n",
        "    \n",
        "    Parameters\n",
        "    ----------\n",
        "        pcapfile : File Object\n",
        "        csi_size : Expected length of CSI in bytes. NFFT * 4\n",
        "    \"\"\"\n",
        "\n",
        "    # Read Frame Size\n",
        "    pcapfile.seek(8, os.SEEK_CUR)\n",
        "    frame_size = int.from_bytes(\n",
        "        pcapfile.read(4),\n",
        "        byteorder = 'little',\n",
        "        signed = False\n",
        "    )\n",
        "\n",
        "    # Skip some stuff\n",
        "    pcapfile.seek(56, os.SEEK_CUR)\n",
        "\n",
        "    # Read CSI data\n",
        "    pcapfile.seek(8, os.SEEK_CUR)\n",
        "    csi = np.frombuffer(\n",
        "        pcapfile.read(csi_size), \n",
        "        dtype = np.int16,\n",
        "        count = int(csi_size / 2)\n",
        "    )\n",
        "\n",
        "    # Skip any zero-padding\n",
        "    pcapfile.seek((frame_size - csi_size - 60), os.SEEK_CUR)\n",
        "\n",
        "    return csi\n",
        "\n",
        "def read_csi(pcap_file_path):\n",
        "    \"\"\"\n",
        "    You have to remove \n",
        "    null and pilot subcarriers\n",
        "    yourself.\n",
        "\n",
        "    Parameters\n",
        "    ----------\n",
        "        pcap_file_path : str\n",
        "    \"\"\"\n",
        "\n",
        "    bandwidth = 80\n",
        "\n",
        "    NFFT = int(bandwidth * 3.2) # Number of channels in FFT\n",
        "    chunksize = 1024\n",
        "\n",
        "    csi  = np.zeros((chunksize, NFFT * 2), dtype = 'int16')\n",
        "\n",
        "    with open(pcap_file_path, 'rb') as pcapfile:\n",
        "        filesize = os.stat(pcap_file_path).st_size\n",
        "        pcapfile.seek(24, os.SEEK_SET)\n",
        "\n",
        "        npackets = 0\n",
        "        while pcapfile.tell() < filesize:\n",
        "            if not (npackets % chunksize):\n",
        "                csi = np.vstack((csi, np.zeros((chunksize, NFFT * 2), dtype = 'int16')))\n",
        "\n",
        "            csi[npackets] = _read_csi_next(pcapfile, NFFT * 4)\n",
        "            \n",
        "            npackets += 1\n",
        "\n",
        "    # Convert CSI complex numbers to Magnitude.\n",
        "    csi_converted = np.abs(\n",
        "        np.fft.fftshift(csi[:npackets, ::2] + 1.j * csi[:npackets, 1::2], axes=(1,))\n",
        "    )\n",
        "\n",
        "    return csi_converted"
      ],
      "id": "cc080527"
    },
    {
      "cell_type": "markdown",
      "source": [
        "Processing data set files\n",
        "\n",
        "\n",
        "> Import files -> call the above function -> remove unrelevant subcarriers \n",
        "\n"
      ],
      "metadata": {
        "id": "ZRk-I2NbUE9u"
      },
      "id": "ZRk-I2NbUE9u"
    },
    {
      "cell_type": "code",
      "execution_count": null,
      "metadata": {
        "id": "bd1d2460",
        "scrolled": true,
        "colab": {
          "base_uri": "https://localhost:8080/"
        },
        "outputId": "31dc1387-f7fa-447e-a2b5-821eeff58db8"
      },
      "outputs": [
        {
          "output_type": "stream",
          "name": "stdout",
          "text": [
            "Mounted at /content/gdrive\n"
          ]
        }
      ],
      "source": [
        "drive.mount(\"/content/gdrive\")\n",
        "\n",
        "movement_data=[]\n",
        "values={0:\"nm\",1:\"sitdown\", 2:\"standup\",3:\"walking\",4:\"falling\",5:\"getintobed\"}\n",
        "for key, value in values.items():\n",
        "    for i in range(1,31):\n",
        "        for j in range(1,5):\n",
        "            file_path = \"/content/gdrive/My Drive/Fition Dataset/\"+value+\"_user\"+str(j)+\"_rm\"+str(j)+\"/\"+value+\"_user\"+str(j)+\"_rm\"+str(j)+\"_\"+str(i)+\".pcap\"\n",
        "            # print(file_path)\n",
        "            csi = read_csi(file_path)\n",
        "        # 80 MHz\n",
        "            nullsubcarriers  = np.array([x+128 for x in [-128, -127, -126, -125, -124, -123, -1, 0, 1, 123, 124, 125, 126, 127]])\n",
        "            pilotsubcarriers = np.array([x+128 for x in [-103, -75, -39, -11, 11, 39, 75, 103]])\n",
        "\n",
        "        # 40 MHz\n",
        "        #  nullsubcarriers = [x+64 for x in [-64, -63, -62, -61, -60, -59, -1, 0, 1, 59, 60, 61, 62, 63]]\n",
        "        #  pilotsubcarriers = [x+64 for x in [11, 25, 53, -11, -25, -53]]\n",
        "\n",
        "            csi=np.delete(csi,np.s_[nullsubcarriers],axis=1)\n",
        "            csi=np.delete(csi,np.s_[pilotsubcarriers],axis=1)\n",
        "            movement_data.append(csi)\n",
        "        \n",
        "   "
      ],
      "id": "bd1d2460"
    },
    {
      "cell_type": "markdown",
      "source": [
        "Shape of the input"
      ],
      "metadata": {
        "id": "su5UoYUCUEYf"
      },
      "id": "su5UoYUCUEYf"
    },
    {
      "cell_type": "code",
      "execution_count": null,
      "metadata": {
        "colab": {
          "base_uri": "https://localhost:8080/"
        },
        "id": "c2525970",
        "outputId": "4a6e200b-1ad4-4685-d28c-ddf72ea040a9"
      },
      "outputs": [
        {
          "output_type": "execute_result",
          "data": {
            "text/plain": [
              "(720, 500, 234)"
            ]
          },
          "metadata": {},
          "execution_count": 8
        }
      ],
      "source": [
        "x=np.array(movement_data)\n",
        "x.shape"
      ],
      "id": "c2525970"
    },
    {
      "cell_type": "markdown",
      "source": [
        "Creating train, validation and test inputs"
      ],
      "metadata": {
        "id": "GB8e7daTUkPT"
      },
      "id": "GB8e7daTUkPT"
    },
    {
      "cell_type": "code",
      "execution_count": null,
      "metadata": {
        "colab": {
          "base_uri": "https://localhost:8080/"
        },
        "id": "fc3960d1",
        "outputId": "fde3402b-e20c-46db-a5ec-ed9b0288c39e"
      },
      "outputs": [
        {
          "output_type": "stream",
          "name": "stdout",
          "text": [
            "600\n",
            "0\n",
            "120\n"
          ]
        }
      ],
      "source": [
        "x_train = []\n",
        "x_valid = []\n",
        "x_test = []\n",
        "ind_list = []\n",
        "for i in range(0, 720, 6):\n",
        "    ind_list.append(i)\n",
        "    # print(len(ind_list))\n",
        "for i in range(0, 720):\n",
        "    if(i in ind_list):\n",
        "        x_test.append(x[i])\n",
        "    # elif(i-1 in ind_list):\n",
        "    #     x_valid.append(x[i])\n",
        "        # print(i)\n",
        "    else:\n",
        "        x_train.append(x[i])\n",
        "\n",
        "\n",
        "\n",
        "x_train = np.array(x_train)\n",
        "x_valid = np.array(x_valid)\n",
        "x_test = np.array(x_test)\n",
        "print(len(x_train))\n",
        "print(len(x_valid))\n",
        "print(len(x_test))"
      ],
      "id": "fc3960d1"
    },
    {
      "cell_type": "markdown",
      "source": [
        "Creating train, validation and test labels"
      ],
      "metadata": {
        "id": "uv5vG7lGUulD"
      },
      "id": "uv5vG7lGUulD"
    },
    {
      "cell_type": "code",
      "execution_count": null,
      "metadata": {
        "colab": {
          "base_uri": "https://localhost:8080/"
        },
        "id": "eee46ebb",
        "outputId": "5b03b2e4-4429-4c32-cfe0-a1db591b4a44"
      },
      "outputs": [
        {
          "output_type": "execute_result",
          "data": {
            "text/plain": [
              "(600,)"
            ]
          },
          "metadata": {},
          "execution_count": 10
        }
      ],
      "source": [
        "list1=[0 for _ in range(100)]\n",
        "list2=[1 for _ in range(100)]\n",
        "list3=[2 for _ in range(100)]\n",
        "list4=[3 for _ in range(100)]\n",
        "list5=[4 for _ in range(100)]\n",
        "list6=[5 for _ in range(100)]\n",
        "y_train=np.array(list1+list2+list3+list4+list5+list6)\n",
        "#y_train=y_train.reshape(20)\n",
        "y_train.shape\n"
      ],
      "id": "eee46ebb"
    },
    {
      "cell_type": "code",
      "source": [
        "list1=[0 for _ in range(20)]\n",
        "list2=[1 for _ in range(20)]\n",
        "list3=[2 for _ in range(20)]\n",
        "list4=[3 for _ in range(20)]\n",
        "list5=[4 for _ in range(20)]\n",
        "list6=[5 for _ in range(20)]\n",
        "y_valid=np.array(list1+list2+list3+list4+list5+list6)\n",
        "#y_test=y_test.reshape(10,1)\n",
        "y_valid.shape"
      ],
      "metadata": {
        "colab": {
          "base_uri": "https://localhost:8080/"
        },
        "id": "er8nF_ry_ct2",
        "outputId": "c49f3f4c-fe1b-462a-96be-d64d845d6345"
      },
      "id": "er8nF_ry_ct2",
      "execution_count": null,
      "outputs": [
        {
          "output_type": "execute_result",
          "data": {
            "text/plain": [
              "(120,)"
            ]
          },
          "metadata": {},
          "execution_count": 11
        }
      ]
    },
    {
      "cell_type": "code",
      "execution_count": null,
      "metadata": {
        "colab": {
          "base_uri": "https://localhost:8080/"
        },
        "id": "591d278c",
        "outputId": "9f44fd99-b3a0-4625-ec4c-f2ea7192743f"
      },
      "outputs": [
        {
          "output_type": "execute_result",
          "data": {
            "text/plain": [
              "(120,)"
            ]
          },
          "metadata": {},
          "execution_count": 12
        }
      ],
      "source": [
        "list1=[0 for _ in range(20)]\n",
        "list2=[1 for _ in range(20)]\n",
        "list3=[2 for _ in range(20)]\n",
        "list4=[3 for _ in range(20)]\n",
        "list5=[4 for _ in range(20)]\n",
        "list6=[5 for _ in range(20)]\n",
        "y_test=np.array(list1+list2+list3+list4+list5+list6)\n",
        "#y_test=y_test.reshape(10,1)\n",
        "y_test.shape\n"
      ],
      "id": "591d278c"
    },
    {
      "cell_type": "markdown",
      "source": [
        "Encoding Labels"
      ],
      "metadata": {
        "id": "clwHpo0_U6pw"
      },
      "id": "clwHpo0_U6pw"
    },
    {
      "cell_type": "code",
      "execution_count": null,
      "metadata": {
        "id": "55c80848"
      },
      "outputs": [],
      "source": [
        "y_train=to_categorical(y_train)\n",
        "y_valid=to_categorical(y_valid)\n",
        "y_test=to_categorical(y_test)"
      ],
      "id": "55c80848"
    },
    {
      "cell_type": "code",
      "execution_count": null,
      "metadata": {
        "colab": {
          "base_uri": "https://localhost:8080/"
        },
        "id": "d66669db",
        "outputId": "29f6bcf5-f3c9-417b-9a1e-b39467f02a27"
      },
      "outputs": [
        {
          "output_type": "execute_result",
          "data": {
            "text/plain": [
              "(600, 6)"
            ]
          },
          "metadata": {},
          "execution_count": 14
        }
      ],
      "source": [
        "y_train.shape"
      ],
      "id": "d66669db"
    },
    {
      "cell_type": "code",
      "source": [
        "y_valid.shape\n"
      ],
      "metadata": {
        "colab": {
          "base_uri": "https://localhost:8080/"
        },
        "id": "VZd_2_8kh9JU",
        "outputId": "2b6e3da4-c511-4acf-f5ac-9d143917c2f6"
      },
      "id": "VZd_2_8kh9JU",
      "execution_count": null,
      "outputs": [
        {
          "output_type": "execute_result",
          "data": {
            "text/plain": [
              "(120, 6)"
            ]
          },
          "metadata": {},
          "execution_count": 15
        }
      ]
    },
    {
      "cell_type": "code",
      "source": [
        "y_test.shape\n"
      ],
      "metadata": {
        "colab": {
          "base_uri": "https://localhost:8080/"
        },
        "id": "cFAWNrfYh-7r",
        "outputId": "5290df18-97c8-47ea-f8a5-5a882614369d"
      },
      "id": "cFAWNrfYh-7r",
      "execution_count": null,
      "outputs": [
        {
          "output_type": "execute_result",
          "data": {
            "text/plain": [
              "(120, 6)"
            ]
          },
          "metadata": {},
          "execution_count": 16
        }
      ]
    },
    {
      "cell_type": "markdown",
      "source": [
        "Input shape variables"
      ],
      "metadata": {
        "id": "L1qqq_VhVMIl"
      },
      "id": "L1qqq_VhVMIl"
    },
    {
      "cell_type": "code",
      "execution_count": null,
      "metadata": {
        "id": "54e15623"
      },
      "outputs": [],
      "source": [
        "input_length, input_features = 500, 234"
      ],
      "id": "54e15623"
    },
    {
      "cell_type": "markdown",
      "source": [
        "Optuna tuning"
      ],
      "metadata": {
        "id": "R02P_PhjVPRh"
      },
      "id": "R02P_PhjVPRh"
    },
    {
      "cell_type": "code",
      "execution_count": null,
      "metadata": {
        "id": "52af60fd",
        "scrolled": true
      },
      "outputs": [],
      "source": [
        "def create_model(trial):\n",
        "\n",
        "    x0 = tf.keras.layers.Input(shape=(n_length, n_features))  \n",
        "\n",
        "    #conv layers\n",
        "    conv_layers = 2\n",
        "    conv_filters = trial.suggest_int(\"conv_filters_L1\", 100, 150)\n",
        "    conv_kernels = trial.suggest_int(\"conv_kernel_L1\", 2, 6)\n",
        "    activation = trial.suggest_categorical(\"activation_L1\", [\"relu\", \"selu\", \"elu\", \"swish\", \"tanh\"])\n",
        "    conv = Conv1D(filters = conv_filters, kernel_size = conv_kernels)(x0)\n",
        "    conv = BatchNormalization()(conv)\n",
        "    conv = Activation(activation)(conv)\n",
        "    conv = BatchNormalization()(conv)\n",
        "    for i in range(conv_layers-1):\n",
        "        conv_filters = trial.suggest_int(\"conv_filters_L{}\".format(i+2), 100, 150)\n",
        "        conv_kernels = trial.suggest_int(\"conv_kernel_L{}\".format(i+2), 2, 6)\n",
        "        activation = trial.suggest_categorical(\"activation_L{}\".format(i+2), [\"relu\", \"selu\", \"elu\", \"swish\", \"tanh\"])\n",
        "        conv = Conv1D(filters = conv_filters, kernel_size = conv_kernels)(conv)\n",
        "        conv = BatchNormalization()(conv)\n",
        "        conv = Activation(activation)(conv)\n",
        "        conv = BatchNormalization()(conv)\n",
        "\n",
        "    #maxpool\n",
        "    maxp = MaxPool1D()(conv)\n",
        "\n",
        "    #lstm layers\n",
        "    lstm_layers = 4\n",
        "    lstm_units = trial.suggest_int(\"lstm_units_L1\", 100, 500)\n",
        "    lstm = Bidirectional(keras.layers.LSTM(lstm_units, return_sequences=True))(maxp)\n",
        "    for i in range(lstm_layers-2):\n",
        "        lstm_units = trial.suggest_int(\"lstm_units_L{}\".format(i+2), 100, 500)\n",
        "        lstm = Bidirectional(keras.layers.LSTM(lstm_units, return_sequences=True))(lstm)    \n",
        "    lstm_units = trial.suggest_int(\"lstm_units_L4\", 100, 500)\n",
        "    lstm = Bidirectional(keras.layers.LSTM(lstm_units))(lstm)\n",
        "    # dropout_rate = trial.suggest_float(\"lstm_dropout\", 0.0, 0.3)\n",
        "    # lstm = Dropout(dropout_rate)(lstm)\n",
        "    # dense_units = lstm_units[-1]\n",
        "    \n",
        "    \n",
        "    # lstm = Dense(dense_units, activation=activation)(lstm)\n",
        "    dense = Dense(6, activation='softmax')(lstm)\n",
        "\n",
        "    model = keras.Model(inputs=x0, outputs=dense)\n",
        "    optimizer = tf.keras.optimizers.Adam(learning_rate=0.0001)\n",
        "    metrics = [\"accuracy\"]\n",
        "    model.compile(optimizer=optimizer, loss=\"categorical_crossentropy\", metrics=metrics)\n",
        "    \n",
        "    return model\n"
      ],
      "id": "52af60fd"
    },
    {
      "cell_type": "code",
      "execution_count": null,
      "metadata": {
        "id": "af5fb07f-5624-4643-86a6-7476dc088fd9",
        "scrolled": true,
        "colab": {
          "base_uri": "https://localhost:8080/"
        },
        "outputId": "72d3e8fd-6193-4351-f619-56e3c8d34362"
      },
      "outputs": [
        {
          "output_type": "stream",
          "name": "stdout",
          "text": [
            "Epoch 1/2000\n",
            "6/6 [==============================] - 33s 456ms/step - loss: 1.6831 - accuracy: 0.3383\n",
            "Epoch 2/2000\n",
            "6/6 [==============================] - 3s 455ms/step - loss: 1.4803 - accuracy: 0.4133\n",
            "Epoch 3/2000\n",
            "6/6 [==============================] - 3s 457ms/step - loss: 1.3348 - accuracy: 0.4783\n",
            "Epoch 4/2000\n",
            "6/6 [==============================] - 3s 464ms/step - loss: 1.1969 - accuracy: 0.5517\n",
            "Epoch 5/2000\n",
            "6/6 [==============================] - 3s 447ms/step - loss: 1.0835 - accuracy: 0.5883\n",
            "Epoch 6/2000\n",
            "6/6 [==============================] - 3s 448ms/step - loss: 0.9361 - accuracy: 0.6600\n",
            "Epoch 7/2000\n",
            "6/6 [==============================] - 3s 449ms/step - loss: 0.8190 - accuracy: 0.6950\n",
            "Epoch 8/2000\n",
            "6/6 [==============================] - 3s 456ms/step - loss: 0.7403 - accuracy: 0.7300\n",
            "Epoch 9/2000\n",
            "6/6 [==============================] - 3s 447ms/step - loss: 0.6445 - accuracy: 0.7650\n",
            "Epoch 10/2000\n",
            "6/6 [==============================] - 3s 448ms/step - loss: 0.5719 - accuracy: 0.7817\n",
            "Epoch 11/2000\n",
            "6/6 [==============================] - 3s 451ms/step - loss: 0.5272 - accuracy: 0.8267\n",
            "Epoch 12/2000\n",
            "6/6 [==============================] - 3s 453ms/step - loss: 0.4616 - accuracy: 0.8483\n",
            "Epoch 13/2000\n",
            "6/6 [==============================] - 3s 452ms/step - loss: 0.4082 - accuracy: 0.8600\n",
            "Epoch 14/2000\n",
            "6/6 [==============================] - 3s 450ms/step - loss: 0.3937 - accuracy: 0.8600\n",
            "Epoch 15/2000\n",
            "6/6 [==============================] - 3s 450ms/step - loss: 0.4012 - accuracy: 0.8767\n",
            "Epoch 16/2000\n",
            "6/6 [==============================] - 3s 454ms/step - loss: 0.3385 - accuracy: 0.8983\n",
            "Epoch 17/2000\n",
            "6/6 [==============================] - 3s 451ms/step - loss: 0.3644 - accuracy: 0.8767\n",
            "Epoch 18/2000\n",
            "6/6 [==============================] - 3s 455ms/step - loss: 0.3000 - accuracy: 0.9050\n",
            "Epoch 19/2000\n",
            "6/6 [==============================] - 3s 452ms/step - loss: 0.2528 - accuracy: 0.9183\n",
            "Epoch 20/2000\n",
            "6/6 [==============================] - 3s 452ms/step - loss: 0.2358 - accuracy: 0.9433\n",
            "Epoch 21/2000\n",
            "6/6 [==============================] - 3s 457ms/step - loss: 0.1932 - accuracy: 0.9433\n",
            "Epoch 22/2000\n",
            "6/6 [==============================] - 3s 454ms/step - loss: 0.1971 - accuracy: 0.9333\n",
            "Epoch 23/2000\n",
            "6/6 [==============================] - 3s 454ms/step - loss: 0.2023 - accuracy: 0.9300\n",
            "Epoch 24/2000\n",
            "6/6 [==============================] - 3s 455ms/step - loss: 0.1758 - accuracy: 0.9467\n",
            "Epoch 25/2000\n",
            "6/6 [==============================] - 3s 450ms/step - loss: 0.1695 - accuracy: 0.9433\n",
            "Epoch 26/2000\n",
            "6/6 [==============================] - 3s 456ms/step - loss: 0.1546 - accuracy: 0.9483\n",
            "Epoch 27/2000\n",
            "6/6 [==============================] - 3s 448ms/step - loss: 0.1607 - accuracy: 0.9467\n",
            "Epoch 28/2000\n",
            "6/6 [==============================] - 3s 449ms/step - loss: 0.1422 - accuracy: 0.9550\n",
            "Epoch 29/2000\n",
            "6/6 [==============================] - 3s 450ms/step - loss: 0.1435 - accuracy: 0.9567\n",
            "Epoch 30/2000\n",
            "6/6 [==============================] - 3s 447ms/step - loss: 0.1107 - accuracy: 0.9633\n",
            "Epoch 31/2000\n",
            "6/6 [==============================] - 3s 459ms/step - loss: 0.1045 - accuracy: 0.9800\n",
            "Epoch 32/2000\n",
            "6/6 [==============================] - 3s 455ms/step - loss: 0.1075 - accuracy: 0.9733\n",
            "Epoch 33/2000\n",
            "6/6 [==============================] - 3s 449ms/step - loss: 0.0906 - accuracy: 0.9750\n",
            "Epoch 34/2000\n",
            "6/6 [==============================] - 3s 449ms/step - loss: 0.0843 - accuracy: 0.9767\n",
            "Epoch 35/2000\n",
            "6/6 [==============================] - 3s 450ms/step - loss: 0.0926 - accuracy: 0.9767\n",
            "Epoch 36/2000\n",
            "6/6 [==============================] - 3s 448ms/step - loss: 0.0733 - accuracy: 0.9833\n",
            "Epoch 37/2000\n",
            "6/6 [==============================] - 3s 457ms/step - loss: 0.0818 - accuracy: 0.9733\n",
            "Epoch 38/2000\n",
            "6/6 [==============================] - 3s 450ms/step - loss: 0.0669 - accuracy: 0.9883\n",
            "Epoch 39/2000\n",
            "6/6 [==============================] - 3s 451ms/step - loss: 0.0723 - accuracy: 0.9800\n",
            "Epoch 40/2000\n",
            "6/6 [==============================] - 3s 458ms/step - loss: 0.0769 - accuracy: 0.9833\n",
            "Epoch 41/2000\n",
            "6/6 [==============================] - 3s 458ms/step - loss: 0.0694 - accuracy: 0.9833\n",
            "Epoch 42/2000\n",
            "6/6 [==============================] - 3s 461ms/step - loss: 0.0801 - accuracy: 0.9783\n",
            "Epoch 43/2000\n",
            "6/6 [==============================] - 3s 451ms/step - loss: 0.0603 - accuracy: 0.9900\n",
            "Epoch 44/2000\n",
            "6/6 [==============================] - 3s 451ms/step - loss: 0.0607 - accuracy: 0.9833\n",
            "Epoch 45/2000\n",
            "6/6 [==============================] - 3s 456ms/step - loss: 0.0816 - accuracy: 0.9783\n",
            "Epoch 46/2000\n",
            "6/6 [==============================] - 3s 448ms/step - loss: 0.0562 - accuracy: 0.9900\n",
            "Epoch 47/2000\n",
            "6/6 [==============================] - 3s 448ms/step - loss: 0.0920 - accuracy: 0.9717\n",
            "Epoch 48/2000\n",
            "6/6 [==============================] - 3s 452ms/step - loss: 0.0976 - accuracy: 0.9700\n",
            "Epoch 49/2000\n",
            "6/6 [==============================] - 3s 448ms/step - loss: 0.0921 - accuracy: 0.9733\n",
            "Epoch 50/2000\n",
            "6/6 [==============================] - 3s 450ms/step - loss: 0.0780 - accuracy: 0.9783\n",
            "Epoch 51/2000\n",
            "6/6 [==============================] - 3s 450ms/step - loss: 0.0654 - accuracy: 0.9917\n",
            "Epoch 52/2000\n",
            "6/6 [==============================] - 3s 450ms/step - loss: 0.0405 - accuracy: 0.9900\n",
            "Epoch 53/2000\n",
            "6/6 [==============================] - 3s 450ms/step - loss: 0.0326 - accuracy: 0.9950\n",
            "Epoch 54/2000\n",
            "6/6 [==============================] - 3s 449ms/step - loss: 0.0406 - accuracy: 0.9933\n",
            "Epoch 55/2000\n",
            "6/6 [==============================] - 3s 448ms/step - loss: 0.0246 - accuracy: 0.9983\n",
            "Epoch 56/2000\n",
            "6/6 [==============================] - 3s 461ms/step - loss: 0.0303 - accuracy: 0.9917\n",
            "Epoch 57/2000\n",
            "6/6 [==============================] - 3s 460ms/step - loss: 0.0210 - accuracy: 0.9983\n",
            "Epoch 58/2000\n",
            "6/6 [==============================] - 3s 451ms/step - loss: 0.0271 - accuracy: 0.9967\n",
            "Epoch 59/2000\n",
            "6/6 [==============================] - 3s 449ms/step - loss: 0.0191 - accuracy: 0.9950\n",
            "Epoch 60/2000\n",
            "6/6 [==============================] - 3s 456ms/step - loss: 0.0212 - accuracy: 0.9967\n",
            "Epoch 61/2000\n",
            "6/6 [==============================] - 3s 452ms/step - loss: 0.0162 - accuracy: 0.9967\n",
            "Epoch 62/2000\n",
            "6/6 [==============================] - 3s 451ms/step - loss: 0.0313 - accuracy: 0.9950\n",
            "Epoch 63/2000\n",
            "6/6 [==============================] - 3s 449ms/step - loss: 0.0296 - accuracy: 0.9917\n",
            "Epoch 64/2000\n",
            "6/6 [==============================] - 3s 448ms/step - loss: 0.0760 - accuracy: 0.9817\n",
            "Epoch 65/2000\n",
            "6/6 [==============================] - 3s 449ms/step - loss: 0.0762 - accuracy: 0.9767\n",
            "Epoch 66/2000\n",
            "6/6 [==============================] - 3s 448ms/step - loss: 0.1026 - accuracy: 0.9700\n",
            "Epoch 67/2000\n",
            "6/6 [==============================] - 3s 448ms/step - loss: 0.0988 - accuracy: 0.9683\n",
            "Epoch 68/2000\n",
            "6/6 [==============================] - 3s 448ms/step - loss: 0.0892 - accuracy: 0.9733\n",
            "Epoch 69/2000\n",
            "6/6 [==============================] - 3s 448ms/step - loss: 0.0578 - accuracy: 0.9867\n",
            "Epoch 70/2000\n",
            "6/6 [==============================] - 3s 448ms/step - loss: 0.0440 - accuracy: 0.9883\n",
            "Epoch 71/2000\n",
            "6/6 [==============================] - 3s 448ms/step - loss: 0.0391 - accuracy: 0.9933\n",
            "Epoch 72/2000\n",
            "6/6 [==============================] - 3s 448ms/step - loss: 0.0318 - accuracy: 0.9933\n",
            "Epoch 73/2000\n",
            "6/6 [==============================] - 3s 449ms/step - loss: 0.0269 - accuracy: 0.9933\n",
            "Epoch 74/2000\n",
            "6/6 [==============================] - 3s 450ms/step - loss: 0.0266 - accuracy: 0.9967\n",
            "Epoch 75/2000\n",
            "6/6 [==============================] - 3s 449ms/step - loss: 0.0352 - accuracy: 0.9883\n",
            "Epoch 76/2000\n",
            "6/6 [==============================] - 3s 448ms/step - loss: 0.0203 - accuracy: 1.0000\n",
            "Epoch 77/2000\n",
            "6/6 [==============================] - 3s 452ms/step - loss: 0.0194 - accuracy: 0.9967\n",
            "Epoch 78/2000\n",
            "6/6 [==============================] - 3s 447ms/step - loss: 0.0125 - accuracy: 0.9983\n",
            "Epoch 79/2000\n",
            "6/6 [==============================] - 3s 452ms/step - loss: 0.0185 - accuracy: 0.9967\n",
            "Epoch 80/2000\n",
            "6/6 [==============================] - 3s 449ms/step - loss: 0.0227 - accuracy: 0.9917\n",
            "Epoch 81/2000\n",
            "6/6 [==============================] - 3s 448ms/step - loss: 0.0367 - accuracy: 0.9900\n",
            "Epoch 82/2000\n",
            "6/6 [==============================] - 3s 449ms/step - loss: 0.0411 - accuracy: 0.9867\n",
            "Epoch 83/2000\n",
            "6/6 [==============================] - 3s 447ms/step - loss: 0.0273 - accuracy: 0.9933\n",
            "Epoch 84/2000\n",
            "6/6 [==============================] - 3s 451ms/step - loss: 0.0205 - accuracy: 0.9950\n",
            "Epoch 85/2000\n",
            "6/6 [==============================] - 3s 447ms/step - loss: 0.0126 - accuracy: 0.9983\n",
            "Epoch 86/2000\n",
            "6/6 [==============================] - 3s 447ms/step - loss: 0.0265 - accuracy: 0.9933\n",
            "Epoch 87/2000\n",
            "6/6 [==============================] - 3s 453ms/step - loss: 0.0265 - accuracy: 0.9933\n",
            "Epoch 88/2000\n",
            "6/6 [==============================] - 3s 455ms/step - loss: 0.0248 - accuracy: 0.9967\n",
            "Epoch 89/2000\n",
            "6/6 [==============================] - 3s 447ms/step - loss: 0.0180 - accuracy: 0.9967\n",
            "Epoch 90/2000\n",
            "6/6 [==============================] - 3s 448ms/step - loss: 0.0171 - accuracy: 0.9950\n",
            "Epoch 91/2000\n",
            "6/6 [==============================] - 3s 448ms/step - loss: 0.0193 - accuracy: 0.9967\n",
            "Epoch 92/2000\n",
            "6/6 [==============================] - 3s 450ms/step - loss: 0.0080 - accuracy: 1.0000\n",
            "Epoch 93/2000\n",
            "6/6 [==============================] - 3s 450ms/step - loss: 0.0164 - accuracy: 0.9950\n",
            "Epoch 94/2000\n",
            "6/6 [==============================] - 3s 447ms/step - loss: 0.0121 - accuracy: 0.9983\n",
            "Epoch 95/2000\n",
            "6/6 [==============================] - 3s 453ms/step - loss: 0.0096 - accuracy: 1.0000\n",
            "Epoch 96/2000\n",
            "6/6 [==============================] - 3s 450ms/step - loss: 0.0153 - accuracy: 0.9950\n",
            "Epoch 97/2000\n",
            "6/6 [==============================] - 3s 449ms/step - loss: 0.0171 - accuracy: 0.9950\n",
            "Epoch 98/2000\n",
            "6/6 [==============================] - 3s 448ms/step - loss: 0.0144 - accuracy: 0.9967\n",
            "Epoch 99/2000\n",
            "6/6 [==============================] - 3s 446ms/step - loss: 0.0197 - accuracy: 0.9950\n",
            "Epoch 100/2000\n",
            "6/6 [==============================] - 3s 448ms/step - loss: 0.0148 - accuracy: 0.9983\n",
            "Epoch 101/2000\n",
            "6/6 [==============================] - 3s 449ms/step - loss: 0.0244 - accuracy: 0.9950\n",
            "Epoch 102/2000\n",
            "6/6 [==============================] - 3s 447ms/step - loss: 0.0193 - accuracy: 0.9950\n",
            "Epoch 103/2000\n",
            "6/6 [==============================] - 3s 448ms/step - loss: 0.0256 - accuracy: 0.9950\n",
            "Epoch 104/2000\n",
            "6/6 [==============================] - 3s 448ms/step - loss: 0.0143 - accuracy: 0.9983\n",
            "Epoch 105/2000\n",
            "6/6 [==============================] - 3s 448ms/step - loss: 0.0293 - accuracy: 0.9950\n",
            "Epoch 106/2000\n",
            "6/6 [==============================] - 3s 450ms/step - loss: 0.0214 - accuracy: 0.9950\n",
            "Epoch 107/2000\n",
            "6/6 [==============================] - 3s 449ms/step - loss: 0.0150 - accuracy: 0.9967\n",
            "Epoch 108/2000\n",
            "6/6 [==============================] - 3s 453ms/step - loss: 0.0123 - accuracy: 0.9950\n",
            "Epoch 109/2000\n",
            "6/6 [==============================] - 3s 448ms/step - loss: 0.0091 - accuracy: 1.0000\n",
            "Epoch 110/2000\n",
            "6/6 [==============================] - 3s 450ms/step - loss: 0.0057 - accuracy: 1.0000\n",
            "Epoch 111/2000\n",
            "6/6 [==============================] - 3s 448ms/step - loss: 0.0195 - accuracy: 0.9950\n",
            "Epoch 112/2000\n",
            "6/6 [==============================] - 3s 448ms/step - loss: 0.0104 - accuracy: 0.9983\n",
            "Epoch 113/2000\n",
            "6/6 [==============================] - 3s 449ms/step - loss: 0.0116 - accuracy: 0.9983\n",
            "Epoch 114/2000\n",
            "6/6 [==============================] - 3s 448ms/step - loss: 0.0090 - accuracy: 0.9983\n",
            "Epoch 115/2000\n",
            "6/6 [==============================] - 3s 449ms/step - loss: 0.0055 - accuracy: 1.0000\n",
            "Epoch 116/2000\n",
            "6/6 [==============================] - 3s 449ms/step - loss: 0.0090 - accuracy: 0.9967\n",
            "Epoch 117/2000\n",
            "6/6 [==============================] - 3s 448ms/step - loss: 0.0081 - accuracy: 0.9983\n",
            "Epoch 118/2000\n",
            "6/6 [==============================] - 3s 448ms/step - loss: 0.0070 - accuracy: 0.9983\n",
            "Epoch 119/2000\n",
            "6/6 [==============================] - 3s 449ms/step - loss: 0.0067 - accuracy: 1.0000\n",
            "Epoch 120/2000\n",
            "6/6 [==============================] - 3s 446ms/step - loss: 0.0167 - accuracy: 0.9950\n",
            "Epoch 121/2000\n",
            "6/6 [==============================] - 3s 448ms/step - loss: 0.0175 - accuracy: 0.9950\n",
            "Epoch 122/2000\n",
            "6/6 [==============================] - 3s 450ms/step - loss: 0.0077 - accuracy: 0.9983\n",
            "Epoch 123/2000\n",
            "6/6 [==============================] - 3s 446ms/step - loss: 0.0175 - accuracy: 0.9950\n",
            "Epoch 124/2000\n",
            "6/6 [==============================] - 3s 449ms/step - loss: 0.0133 - accuracy: 0.9967\n",
            "Epoch 125/2000\n",
            "6/6 [==============================] - 3s 449ms/step - loss: 0.0121 - accuracy: 0.9983\n",
            "Epoch 126/2000\n",
            "6/6 [==============================] - 3s 450ms/step - loss: 0.0083 - accuracy: 0.9983\n",
            "Epoch 127/2000\n",
            "6/6 [==============================] - 3s 451ms/step - loss: 0.0148 - accuracy: 0.9983\n",
            "Epoch 128/2000\n",
            "6/6 [==============================] - 3s 448ms/step - loss: 0.0072 - accuracy: 1.0000\n",
            "Epoch 129/2000\n",
            "6/6 [==============================] - 3s 448ms/step - loss: 0.0156 - accuracy: 0.9933\n",
            "Epoch 130/2000\n",
            "6/6 [==============================] - 3s 448ms/step - loss: 0.0050 - accuracy: 1.0000\n",
            "Epoch 131/2000\n",
            "6/6 [==============================] - 3s 448ms/step - loss: 0.0120 - accuracy: 0.9967\n",
            "Epoch 132/2000\n",
            "6/6 [==============================] - 3s 449ms/step - loss: 0.0169 - accuracy: 0.9983\n",
            "Epoch 133/2000\n",
            "6/6 [==============================] - 3s 450ms/step - loss: 0.0201 - accuracy: 0.9950\n",
            "Epoch 134/2000\n",
            "6/6 [==============================] - 3s 448ms/step - loss: 0.0134 - accuracy: 0.9917\n",
            "Epoch 135/2000\n",
            "6/6 [==============================] - 3s 448ms/step - loss: 0.0105 - accuracy: 0.9950\n",
            "Epoch 136/2000\n",
            "6/6 [==============================] - 3s 448ms/step - loss: 0.0075 - accuracy: 0.9983\n",
            "Epoch 137/2000\n",
            "6/6 [==============================] - 3s 447ms/step - loss: 0.0063 - accuracy: 0.9983\n",
            "Epoch 138/2000\n",
            "6/6 [==============================] - 3s 449ms/step - loss: 0.0052 - accuracy: 0.9983\n",
            "Epoch 139/2000\n",
            "6/6 [==============================] - 3s 449ms/step - loss: 0.0046 - accuracy: 1.0000\n",
            "Epoch 140/2000\n",
            "3/6 [==============>...............] - ETA: 1s - loss: 0.0037 - accuracy: 1.0000"
          ]
        }
      ],
      "source": [
        "EPOCHS = 100 # number of epocs per trial\n",
        "BATCH_SIZE = 80\n",
        "\n",
        "def objective(trial):\n",
        "    \n",
        "    # Clear clutter from previous session graphs.\n",
        "    keras.backend.clear_session()\n",
        "    \n",
        "    with strategy.scope():\n",
        "        # Generate our trial model.\n",
        "        model = create_model(trial)\n",
        "\n",
        "        # learning rate scheduler\n",
        "        scheduler = ExponentialDecay(1e-3, 400*((len(x_train)*0.8)/BATCH_SIZE), 1e-5)\n",
        "        lr = LearningRateScheduler(scheduler, verbose=0)\n",
        "    \n",
        "        # Fit the model on the training data.\n",
        "        # The TFKerasPruningCallback checks for pruning condition every epoch.\n",
        "        model.fit(\n",
        "            x_train,\n",
        "            y_train,\n",
        "            batch_size=BATCH_SIZE,\n",
        "            callbacks=[TFKerasPruningCallback(trial, \"val_loss\")],\n",
        "            epochs=EPOCHS,\n",
        "            validation_data=(x_valid, y_valid),\n",
        "            verbose=1,\n",
        "            use_multiprocessing=True\n",
        "        )\n",
        "\n",
        "        # Evaluate the model accuracy on the validation set.\n",
        "        score = model.evaluate(x_test, y_test, verbose=0)\n",
        "        return score[1]"
      ],
      "id": "af5fb07f-5624-4643-86a6-7476dc088fd9"
    },
    {
      "cell_type": "code",
      "source": [
        "study = optuna.create_study(direction=\"maximize\", sampler=optuna.samplers.TPESampler(), pruner=optuna.pruners.HyperbandPruner())\n",
        "joblib.dump(study, \"study.pkl\")\n",
        "study.optimize(objective, n_trials=200)\n",
        "pruned_trials = study.get_trials(deepcopy=False, states=[TrialState.PRUNED])\n",
        "complete_trials = study.get_trials(deepcopy=False, states=[TrialState.COMPLETE])"
      ],
      "metadata": {
        "id": "yuT9E3ubYCMr"
      },
      "id": "yuT9E3ubYCMr",
      "execution_count": null,
      "outputs": []
    },
    {
      "cell_type": "code",
      "source": [
        "# study = joblib.load(\"study.pkl\")\n",
        "# print(\"Best trial until now:\")\n",
        "# print(\" Value: \", study.best_trial.value)\n",
        "# print(\" Params: \")\n",
        "# for key, value in study.best_trial.params.items():\n",
        "#     print(f\"    {key}: {value}\")"
      ],
      "metadata": {
        "id": "iFIhyj8LYG0L"
      },
      "id": "iFIhyj8LYG0L",
      "execution_count": 1,
      "outputs": []
    },
    {
      "cell_type": "code",
      "source": [
        "print(\"Study statistics: \")\n",
        "print(\"  Number of finished trials: \", len(study.trials))\n",
        "print(\"  Number of pruned trials: \", len(pruned_trials))\n",
        "print(\"  Number of complete trials: \", len(complete_trials))\n",
        "\n",
        "print(\"Best trial:\")\n",
        "trial = study.best_trial\n",
        "\n",
        "print(\"  Value: \", trial.value)\n",
        "\n",
        "print(\"  Params: \")\n",
        "for key, value in trial.params.items():\n",
        "    print(\"    {}: {}\".format(key, value))"
      ],
      "metadata": {
        "id": "-bdP5_sXYHqD"
      },
      "id": "-bdP5_sXYHqD",
      "execution_count": null,
      "outputs": []
    },
    {
      "cell_type": "code",
      "source": [
        "plot_optimization_history(study)"
      ],
      "metadata": {
        "id": "fWsUrtcxYJFk"
      },
      "id": "fWsUrtcxYJFk",
      "execution_count": null,
      "outputs": []
    },
    {
      "cell_type": "code",
      "source": [
        "plot_intermediate_values(study)"
      ],
      "metadata": {
        "id": "XEQe7RCFYg2u"
      },
      "id": "XEQe7RCFYg2u",
      "execution_count": null,
      "outputs": []
    },
    {
      "cell_type": "code",
      "source": [
        "plot_param_importances(study)"
      ],
      "metadata": {
        "id": "YOiyKKGmYiGz"
      },
      "id": "YOiyKKGmYiGz",
      "execution_count": null,
      "outputs": []
    },
    {
      "cell_type": "code",
      "source": [
        "plot_contour(study)"
      ],
      "metadata": {
        "id": "5ipG_xzvYkPK"
      },
      "id": "5ipG_xzvYkPK",
      "execution_count": null,
      "outputs": []
    }
  ],
  "metadata": {
    "accelerator": "TPU",
    "colab": {
      "name": "Fition Hyperparameter Tuning",
      "provenance": [],
      "collapsed_sections": [],
      "toc_visible": true,
      "include_colab_link": true
    },
    "environment": {
      "kernel": "python3",
      "name": "tf2-gpu.2-6.m87",
      "type": "gcloud",
      "uri": "gcr.io/deeplearning-platform-release/tf2-gpu.2-6:m87"
    },
    "kernelspec": {
      "display_name": "Python 3 (ipykernel)",
      "language": "python",
      "name": "python3"
    },
    "language_info": {
      "codemirror_mode": {
        "name": "ipython",
        "version": 3
      },
      "file_extension": ".py",
      "mimetype": "text/x-python",
      "name": "python",
      "nbconvert_exporter": "python",
      "pygments_lexer": "ipython3",
      "version": "3.9.7"
    }
  },
  "nbformat": 4,
  "nbformat_minor": 5
}